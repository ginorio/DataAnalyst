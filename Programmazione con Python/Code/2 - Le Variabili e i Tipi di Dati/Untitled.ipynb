{
 "cells": [
  {
   "cell_type": "markdown",
   "id": "5cf2d458",
   "metadata": {},
   "source": [
    "# I/O"
   ]
  },
  {
   "cell_type": "code",
   "execution_count": null,
   "id": "684859bf",
   "metadata": {},
   "outputs": [],
   "source": [
    "print(\"Ciao mondo\")"
   ]
  },
  {
   "cell_type": "code",
   "execution_count": null,
   "id": "2059e68c",
   "metadata": {},
   "outputs": [],
   "source": [
    "print(5)"
   ]
  },
  {
   "cell_type": "code",
   "execution_count": null,
   "id": "d9bb9f44",
   "metadata": {},
   "outputs": [],
   "source": [
    "print(0.5)"
   ]
  },
  {
   "cell_type": "code",
   "execution_count": null,
   "id": "e89c20a8",
   "metadata": {},
   "outputs": [],
   "source": [
    "print(False)"
   ]
  },
  {
   "cell_type": "code",
   "execution_count": null,
   "id": "288b98ec",
   "metadata": {},
   "outputs": [],
   "source": [
    "print(5+3)"
   ]
  },
  {
   "cell_type": "code",
   "execution_count": null,
   "id": "5fff879b",
   "metadata": {},
   "outputs": [],
   "source": [
    "print(5-2)"
   ]
  },
  {
   "cell_type": "code",
   "execution_count": null,
   "id": "f4b86419",
   "metadata": {},
   "outputs": [],
   "source": [
    "print(5/2)"
   ]
  },
  {
   "cell_type": "code",
   "execution_count": null,
   "id": "d9134ded",
   "metadata": {},
   "outputs": [],
   "source": [
    "print(5*2)"
   ]
  },
  {
   "cell_type": "code",
   "execution_count": null,
   "id": "56d48556",
   "metadata": {},
   "outputs": [],
   "source": [
    "print(5**2)"
   ]
  },
  {
   "cell_type": "code",
   "execution_count": null,
   "id": "912c92e4",
   "metadata": {},
   "outputs": [],
   "source": [
    "print(5%2)"
   ]
  },
  {
   "cell_type": "code",
   "execution_count": null,
   "id": "536e7f47",
   "metadata": {},
   "outputs": [],
   "source": [
    "name = input(\"Come ti chiami? \")"
   ]
  },
  {
   "cell_type": "code",
   "execution_count": null,
   "id": "f6859087",
   "metadata": {},
   "outputs": [],
   "source": [
    "print(\"Ciao\",name,\"piacere di conoscerti\")"
   ]
  },
  {
   "cell_type": "code",
   "execution_count": null,
   "id": "ad1e483c",
   "metadata": {},
   "outputs": [],
   "source": []
  },
  {
   "cell_type": "code",
   "execution_count": null,
   "id": "dc7c9228",
   "metadata": {},
   "outputs": [],
   "source": []
  },
  {
   "cell_type": "markdown",
   "id": "e28bf72d",
   "metadata": {},
   "source": [
    "# Tipi di dati"
   ]
  },
  {
   "cell_type": "code",
   "execution_count": null,
   "id": "6ca74eca",
   "metadata": {},
   "outputs": [],
   "source": [
    "var_int = 5"
   ]
  },
  {
   "cell_type": "code",
   "execution_count": null,
   "id": "53db5981",
   "metadata": {},
   "outputs": [],
   "source": [
    "var_float = 0.5"
   ]
  },
  {
   "cell_type": "code",
   "execution_count": null,
   "id": "7a6ede37",
   "metadata": {},
   "outputs": [],
   "source": [
    "var_str = \"zero virgola cinque\""
   ]
  },
  {
   "cell_type": "code",
   "execution_count": null,
   "id": "7dada249",
   "metadata": {},
   "outputs": [],
   "source": [
    "a = 1\n",
    "b = 2\n",
    "a+b"
   ]
  },
  {
   "cell_type": "code",
   "execution_count": null,
   "id": "f05890fd",
   "metadata": {},
   "outputs": [],
   "source": [
    "a-b"
   ]
  },
  {
   "cell_type": "code",
   "execution_count": null,
   "id": "c5a434e8",
   "metadata": {},
   "outputs": [],
   "source": [
    "a/b"
   ]
  },
  {
   "cell_type": "code",
   "execution_count": null,
   "id": "9abb232b",
   "metadata": {},
   "outputs": [],
   "source": [
    "a*b"
   ]
  },
  {
   "cell_type": "code",
   "execution_count": null,
   "id": "bae99de6",
   "metadata": {},
   "outputs": [],
   "source": [
    "a**b"
   ]
  },
  {
   "cell_type": "code",
   "execution_count": null,
   "id": "607e735e",
   "metadata": {},
   "outputs": [],
   "source": [
    "a%b"
   ]
  },
  {
   "cell_type": "code",
   "execution_count": null,
   "id": "5b5db62e",
   "metadata": {},
   "outputs": [],
   "source": [
    "type(a)"
   ]
  },
  {
   "cell_type": "code",
   "execution_count": null,
   "id": "c89fe2e0",
   "metadata": {},
   "outputs": [],
   "source": [
    "type(var)"
   ]
  },
  {
   "cell_type": "code",
   "execution_count": null,
   "id": "115c2114",
   "metadata": {},
   "outputs": [],
   "source": [
    "from sys import getsizeof\n",
    "getsizeof(a)"
   ]
  },
  {
   "cell_type": "code",
   "execution_count": null,
   "id": "dddbf4a1",
   "metadata": {},
   "outputs": [],
   "source": [
    "getsizeof(var)"
   ]
  },
  {
   "cell_type": "code",
   "execution_count": null,
   "id": "5972ad3a",
   "metadata": {},
   "outputs": [],
   "source": [
    "len(var)+49"
   ]
  },
  {
   "cell_type": "code",
   "execution_count": null,
   "id": "71d5c0a8",
   "metadata": {},
   "outputs": [],
   "source": []
  },
  {
   "cell_type": "markdown",
   "id": "0789df82",
   "metadata": {},
   "source": [
    "# Casting"
   ]
  },
  {
   "cell_type": "code",
   "execution_count": null,
   "id": "95e64c6c",
   "metadata": {},
   "outputs": [],
   "source": [
    "var = 1\n",
    "var = float(var)\n",
    "print(var, type(var))"
   ]
  },
  {
   "cell_type": "code",
   "execution_count": null,
   "id": "3ca4932e",
   "metadata": {},
   "outputs": [],
   "source": [
    "var = 1.8\n",
    "var = int(var)\n",
    "print(var, type(var))"
   ]
  },
  {
   "cell_type": "code",
   "execution_count": null,
   "id": "866720c3",
   "metadata": {},
   "outputs": [],
   "source": [
    "var = 5\n",
    "var = str(var)\n",
    "print(var, type())"
   ]
  },
  {
   "cell_type": "code",
   "execution_count": null,
   "id": "2105f380",
   "metadata": {},
   "outputs": [],
   "source": [
    "var = \"cinque\"\n",
    "var = int(var)\n",
    "print(var, type(var))"
   ]
  },
  {
   "cell_type": "code",
   "execution_count": null,
   "id": "689ccba8",
   "metadata": {},
   "outputs": [],
   "source": []
  },
  {
   "cell_type": "code",
   "execution_count": null,
   "id": "a8fc0f23",
   "metadata": {},
   "outputs": [],
   "source": []
  },
  {
   "cell_type": "markdown",
   "id": "7dc1a969",
   "metadata": {},
   "source": [
    "# La formattazione"
   ]
  },
  {
   "cell_type": "code",
   "execution_count": 2,
   "id": "029edcdf",
   "metadata": {},
   "outputs": [
    {
     "name": "stdout",
     "output_type": "stream",
     "text": [
      "Hai 25 anni\n"
     ]
    }
   ],
   "source": [
    "age = 25\n",
    "print(\"Hai \"+str(age)+\" anni\")"
   ]
  },
  {
   "cell_type": "code",
   "execution_count": null,
   "id": "39132e7b",
   "metadata": {},
   "outputs": [],
   "source": [
    "print(\"Hai %d anni\" % age)"
   ]
  },
  {
   "cell_type": "markdown",
   "id": "220e3019",
   "metadata": {},
   "source": [
    "* **%d**: numero intero\n",
    "* **%f**: numero con la virgola\n",
    "* **%s**: stringa"
   ]
  },
  {
   "cell_type": "code",
   "execution_count": 4,
   "id": "d631007a",
   "metadata": {},
   "outputs": [
    {
     "name": "stdout",
     "output_type": "stream",
     "text": [
      "Come ti chiami? Giuseppe\n",
      "Quanti hanni hai? 30\n"
     ]
    }
   ],
   "source": [
    "my_name = input(\"Come ti chiami? \")\n",
    "my_age = input(\"Quanti hanni hai? \")\n",
    "my_age = int(my_age)\n",
    "my_born = 2022-my_age"
   ]
  },
  {
   "cell_type": "code",
   "execution_count": 6,
   "id": "022da7c4",
   "metadata": {},
   "outputs": [
    {
     "name": "stdout",
     "output_type": "stream",
     "text": [
      "Il tuo nome è Giuseppe, hai 30 anni, quindi sei nato nel 1992\n"
     ]
    }
   ],
   "source": [
    "print(\"Il tuo nome è %s, hai %d anni, quindi sei nato nel %d\" \n",
    "      % (my_name, my_age, my_born))"
   ]
  },
  {
   "cell_type": "code",
   "execution_count": 18,
   "id": "abd127e1",
   "metadata": {},
   "outputs": [
    {
     "name": "stdout",
     "output_type": "stream",
     "text": [
      "Inserisci la tua altezza in metri: 1.76\n",
      "Inserisci il tuo peso in kg: 80.2\n"
     ]
    }
   ],
   "source": [
    "my_height = float(input(\"Inserisci la tua altezza in metri: \"))\n",
    "my_weight = float(input(\"Inserisci il tuo peso in kg: \"))"
   ]
  },
  {
   "cell_type": "code",
   "execution_count": 21,
   "id": "76fc86e9",
   "metadata": {},
   "outputs": [
    {
     "name": "stdout",
     "output_type": "stream",
     "text": [
      "Altezza=1.8 Peso=80.2\n"
     ]
    }
   ],
   "source": [
    "print(\"Altezza=%.1f Peso=%.1f\" % (my_height, my_weight))"
   ]
  },
  {
   "cell_type": "code",
   "execution_count": 23,
   "id": "6200ef86",
   "metadata": {},
   "outputs": [
    {
     "name": "stdout",
     "output_type": "stream",
     "text": [
      "Il tuo nome è Giuseppe, hai 30 anni, quindi sei nato nel 1992\n"
     ]
    }
   ],
   "source": [
    "print(\"Il tuo nome è {name}, hai {age} anni, quindi sei nato nel {born}\"\n",
    "      .format(name=my_name, age=my_age, born=my_born))"
   ]
  },
  {
   "cell_type": "code",
   "execution_count": 25,
   "id": "81698ea6",
   "metadata": {},
   "outputs": [
    {
     "name": "stdout",
     "output_type": "stream",
     "text": [
      "Altezza=1.8 Peso=80\n"
     ]
    }
   ],
   "source": [
    "print(\"Altezza={height:.1f} Peso={weight:.0f}\"\n",
    "      .format(height=my_height, weight=my_weight))"
   ]
  },
  {
   "cell_type": "code",
   "execution_count": 28,
   "id": "d5d45842",
   "metadata": {},
   "outputs": [
    {
     "name": "stdout",
     "output_type": "stream",
     "text": [
      "Il tuo nome è Giuseppe, hai 30 anni, quindi sei nato nel 1992\n"
     ]
    }
   ],
   "source": [
    "print(f\"Il tuo nome è {my_name}, hai {my_age} anni, quindi sei nato nel {my_born}\")"
   ]
  },
  {
   "cell_type": "code",
   "execution_count": 30,
   "id": "095c032c",
   "metadata": {},
   "outputs": [
    {
     "name": "stdout",
     "output_type": "stream",
     "text": [
      "Altezza=1.8 Peso=80\n"
     ]
    }
   ],
   "source": [
    "print(f\"Altezza={my_height:.1f} Peso={my_weight:.0f}\")"
   ]
  },
  {
   "cell_type": "code",
   "execution_count": null,
   "id": "fb3adee0",
   "metadata": {},
   "outputs": [],
   "source": []
  },
  {
   "cell_type": "code",
   "execution_count": null,
   "id": "778cf57e",
   "metadata": {},
   "outputs": [],
   "source": []
  },
  {
   "cell_type": "code",
   "execution_count": null,
   "id": "ff906023",
   "metadata": {},
   "outputs": [],
   "source": []
  },
  {
   "cell_type": "code",
   "execution_count": null,
   "id": "22d481f4",
   "metadata": {},
   "outputs": [],
   "source": []
  },
  {
   "cell_type": "code",
   "execution_count": null,
   "id": "dce948b7",
   "metadata": {},
   "outputs": [],
   "source": []
  }
 ],
 "metadata": {
  "kernelspec": {
   "display_name": "Python 3",
   "language": "python",
   "name": "python3"
  },
  "language_info": {
   "codemirror_mode": {
    "name": "ipython",
    "version": 3
   },
   "file_extension": ".py",
   "mimetype": "text/x-python",
   "name": "python",
   "nbconvert_exporter": "python",
   "pygments_lexer": "ipython3",
   "version": "3.8.8"
  }
 },
 "nbformat": 4,
 "nbformat_minor": 5
}
