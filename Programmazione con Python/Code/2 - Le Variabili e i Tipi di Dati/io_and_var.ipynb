{
  "nbformat": 4,
  "nbformat_minor": 0,
  "metadata": {
    "colab": {
      "name": "io_and_var.ipynb",
      "provenance": [],
      "include_colab_link": true
    },
    "kernelspec": {
      "display_name": "Python 3",
      "language": "python",
      "name": "python3"
    },
    "language_info": {
      "codemirror_mode": {
        "name": "ipython",
        "version": 3
      },
      "file_extension": ".py",
      "mimetype": "text/x-python",
      "name": "python",
      "nbconvert_exporter": "python",
      "pygments_lexer": "ipython3",
      "version": "3.7.4"
    }
  },
  "cells": [
    {
      "cell_type": "markdown",
      "metadata": {
        "id": "view-in-github",
        "colab_type": "text"
      },
      "source": [
        "<a href=\"https://colab.research.google.com/github/ProfAI/programmazione-con-python/blob/main/2%20-%20Le%20Variabili%20e%20i%20Tipi%20di%20Dati/io_and_var.ipynb\" target=\"_parent\"><img src=\"https://colab.research.google.com/assets/colab-badge.svg\" alt=\"Open In Colab\"/></a>"
      ]
    },
    {
      "cell_type": "markdown",
      "metadata": {
        "id": "V2gYDPx_zQMW"
      },
      "source": [
        "# Variabili, tipi di dati e funzioni di base"
      ]
    },
    {
      "cell_type": "markdown",
      "metadata": {
        "id": "zdb9N2CeOdBd"
      },
      "source": [
        "## Input e Output"
      ]
    },
    {
      "cell_type": "markdown",
      "metadata": {
        "id": "3FuWDdrmO_iD"
      },
      "source": [
        "Iniziamo dalle basi delle basi, input e output. Con Python possiamo stampare del testo su schermo utilizzando la funzione **print**."
      ]
    },
    {
      "cell_type": "code",
      "metadata": {
        "colab": {
          "base_uri": "https://localhost:8080/",
          "height": 69
        },
        "id": "OkE3NxA8NvSY",
        "outputId": "ed2a1e13-e387-40d3-9b35-c7a06fced8f5"
      },
      "source": [
        "print(\"Ciao mondo\") # stampiamo del testo\n",
        "print(5) # stampiamo un numero interop\n",
        "print(0.5) # stampiamo un numero con la virgola"
      ],
      "execution_count": null,
      "outputs": [
        {
          "name": "stdout",
          "output_type": "stream",
          "text": [
            "Ciao mondo\n",
            "5\n",
            "0.5\n"
          ]
        }
      ]
    },
    {
      "cell_type": "markdown",
      "metadata": {
        "id": "rjIEClpfO1q8"
      },
      "source": [
        "Possiamo eseguire le operazioni di base tra dei valori numerici"
      ]
    },
    {
      "cell_type": "code",
      "metadata": {
        "id": "geHa-R08Odhs"
      },
      "source": [
        "# somma\n",
        "print(5+3)\n",
        "\n",
        "# sottrazione\n",
        "print(4-1)\n",
        "\n",
        "# prodotto\n",
        "print(3*2)\n",
        "\n",
        "# divisione\n",
        "print(4/2)\n",
        "\n",
        "# resto\n",
        "print(5%2)\n",
        "\n",
        "# unire due stringhe\n",
        "print(\"5\"+\"2\")"
      ],
      "execution_count": null,
      "outputs": []
    },
    {
      "cell_type": "markdown",
      "metadata": {
        "id": "LAx3DkPyPCTY"
      },
      "source": [
        "Per qacquisire delle informazioni in input da tastiera possiamo utilizzare la funzione **input**."
      ]
    },
    {
      "cell_type": "code",
      "metadata": {
        "id": "bD72KtaaO7-7"
      },
      "source": [
        "name = input(\"Come ti chiami ? \")\n",
        "print(\"Felice di conoscerti\",name)"
      ],
      "execution_count": null,
      "outputs": []
    },
    {
      "cell_type": "markdown",
      "metadata": {
        "id": "ZXC1-xtmPFAa"
      },
      "source": [
        "L'informazione immessa è stata immagazzinata all'interno della variabile *name*."
      ]
    },
    {
      "cell_type": "markdown",
      "metadata": {
        "id": "PUdmDNLizQMe"
      },
      "source": [
        "## Le Variabili\n",
        "Possiamo considerare le variabili come dei contenitori in grado di contenere diversi tipi di informazioni, il contenuto può essere modificato o rimpiazzato in ogni momento."
      ]
    },
    {
      "cell_type": "code",
      "metadata": {
        "colab": {
          "base_uri": "https://localhost:8080/",
          "height": 35
        },
        "id": "8ga4yreoPFzu",
        "outputId": "008275e5-4fb2-424b-f1ee-b7fd7100a3fe"
      },
      "source": [
        "num = 5\n",
        "print(num)"
      ],
      "execution_count": null,
      "outputs": [
        {
          "name": "stdout",
          "output_type": "stream",
          "text": [
            "5\n"
          ]
        }
      ]
    },
    {
      "cell_type": "code",
      "metadata": {
        "colab": {
          "base_uri": "https://localhost:8080/",
          "height": 35
        },
        "id": "HZeOfay2PIS4",
        "outputId": "fdc59ec1-d1e3-419f-c7e1-72e20582b27a"
      },
      "source": [
        "word = \"ciao\"\n",
        "print(word)"
      ],
      "execution_count": null,
      "outputs": [
        {
          "name": "stdout",
          "output_type": "stream",
          "text": [
            "ciao\n"
          ]
        }
      ]
    },
    {
      "cell_type": "code",
      "metadata": {
        "colab": {
          "base_uri": "https://localhost:8080/",
          "height": 52
        },
        "id": "wXwOhHtfPMi_",
        "outputId": "99770e37-0341-41b5-c9d7-1bf20e98858a"
      },
      "source": [
        "cat = input(\"Inserisci un nome per il tuo nuovo gatto: \")\n",
        "print(cat,\"è il tuo nuovo padrone\")"
      ],
      "execution_count": null,
      "outputs": [
        {
          "name": "stdout",
          "output_type": "stream",
          "text": [
            "Inserisci un nome per il tuo nuovo gatto: elon\n",
            "elon  è il tuo nuovo padrone\n"
          ]
        }
      ]
    },
    {
      "cell_type": "markdown",
      "metadata": {
        "id": "JSjT7ja8PXAO"
      },
      "source": [
        "## Tipi di Dati\n",
        "Python include moltissimi tipi di dati differenti, i principali sono:\n",
        " * **Interi**: numeri interi (es: 5, 10,  123)\n",
        " * **Float**: numeri in virgola mobile (es: 4.34, 5.31, 0.17)\n",
        " * **Stringhe**: del testo (es: \"ciao\", \"abc\", \"Yo, come butta fratello ?\")\n",
        " * **Booleani**: possono avere solo due valori vero/falso (True/False)"
      ]
    },
    {
      "cell_type": "code",
      "metadata": {
        "colab": {
          "base_uri": "https://localhost:8080/",
          "height": 35
        },
        "id": "QqdYtt7GPR4M",
        "outputId": "945ed75b-3908-4925-c0ca-c4b81e59280b"
      },
      "source": [
        "var = \"ciao\"\n",
        "type(var)"
      ],
      "execution_count": null,
      "outputs": [
        {
          "data": {
            "text/plain": [
              "str"
            ]
          },
          "execution_count": 5,
          "metadata": {
            "tags": []
          },
          "output_type": "execute_result"
        }
      ]
    },
    {
      "cell_type": "markdown",
      "metadata": {
        "id": "RQhSAafJzQMh"
      },
      "source": [
        "Python è un linguaggio **non tipizzato**, questo vuol dire che non serve definire a priori il tipo di dato che una variabile dovrà contenere, ma anzi è anche possibile riassegnare una stessa variabile ad un nuovo tipo di dato."
      ]
    },
    {
      "cell_type": "code",
      "metadata": {
        "colab": {
          "base_uri": "https://localhost:8080/",
          "height": 35
        },
        "id": "g5ytkE8uPcEt",
        "outputId": "93b3a712-ea44-4ae9-e522-148a0b1e96bb"
      },
      "source": [
        "var = 5 # Intero\n",
        "var = 4.15 # Float\n",
        "var = \"ciao ciao\" # Stringa\n",
        "var = True # Boolean\n",
        "\n",
        "type(var)"
      ],
      "execution_count": null,
      "outputs": [
        {
          "data": {
            "text/plain": [
              "bool"
            ]
          },
          "execution_count": 7,
          "metadata": {
            "tags": []
          },
          "output_type": "execute_result"
        }
      ]
    },
    {
      "cell_type": "markdown",
      "metadata": {
        "id": "vNg53zt5zQMi"
      },
      "source": [
        "## Casting\n",
        "Il casting è un'operazione che consiste nel convertire un tipo di dato in un'altro, in Python può essere eseguito con un'operazione del tipo *datatype(var)*."
      ]
    },
    {
      "cell_type": "markdown",
      "metadata": {
        "id": "mt1UVw4UzQMi"
      },
      "source": [
        "#### ES. 1: Casting da intero a float"
      ]
    },
    {
      "cell_type": "code",
      "metadata": {
        "colab": {
          "base_uri": "https://localhost:8080/",
          "height": 35
        },
        "id": "s4NqmKXRPfYH",
        "outputId": "2ba26107-67ba-4d3a-dd9e-bfd99c388845"
      },
      "source": [
        "var = 1 # intero\n",
        "var = float(var) # da intero a float\n",
        "print(var, type(var))"
      ],
      "execution_count": null,
      "outputs": [
        {
          "name": "stdout",
          "output_type": "stream",
          "text": [
            "1.0 <class 'float'>\n"
          ]
        }
      ]
    },
    {
      "cell_type": "markdown",
      "metadata": {
        "id": "c0OG7OYLzQMj"
      },
      "source": [
        "#### ES. 2: Casting da float a intero"
      ]
    },
    {
      "cell_type": "code",
      "metadata": {
        "colab": {
          "base_uri": "https://localhost:8080/",
          "height": 35
        },
        "id": "nU-DSTsHQiMZ",
        "outputId": "7aeece43-ba38-46e4-961a-b4f6974241d5"
      },
      "source": [
        "var = 1.5 # float\n",
        "var = int(var) # da float a intero\n",
        "print(var, type(var))"
      ],
      "execution_count": null,
      "outputs": [
        {
          "name": "stdout",
          "output_type": "stream",
          "text": [
            "1 <class 'int'>\n"
          ]
        }
      ]
    },
    {
      "cell_type": "markdown",
      "metadata": {
        "id": "696U0IiwzQMj"
      },
      "source": [
        "#### ES. 3: Casting da intero a stringa"
      ]
    },
    {
      "cell_type": "code",
      "metadata": {
        "colab": {
          "base_uri": "https://localhost:8080/",
          "height": 35
        },
        "id": "KD5v_-8dPtgd",
        "outputId": "cb1e2c32-c88c-44cf-f248-4958fc8227f0"
      },
      "source": [
        "var = 5 # intero\n",
        "var = str(var) # da intero a stringa\n",
        "print(var, type(var))"
      ],
      "execution_count": null,
      "outputs": [
        {
          "name": "stdout",
          "output_type": "stream",
          "text": [
            "5 <class 'str'>\n"
          ]
        }
      ]
    },
    {
      "cell_type": "markdown",
      "metadata": {
        "id": "LjmJ3sT-zQMk"
      },
      "source": [
        "#### ES. 4: Casting da stringa a intero"
      ]
    },
    {
      "cell_type": "code",
      "metadata": {
        "colab": {
          "base_uri": "https://localhost:8080/",
          "height": 35
        },
        "id": "AVEw1OzJQLw2",
        "outputId": "682afb4d-f73a-45c8-a697-3280ca7d3df8"
      },
      "source": [
        "var = \"5\" # stringa\n",
        "var = int(var) # da stringa a intero\n",
        "print(var, type(var))"
      ],
      "execution_count": null,
      "outputs": [
        {
          "name": "stdout",
          "output_type": "stream",
          "text": [
            "5 <class 'int'>\n"
          ]
        }
      ]
    },
    {
      "cell_type": "markdown",
      "metadata": {
        "id": "t62Q6_jFzQMk"
      },
      "source": [
        "#### ES. 5: Casting da stringa a intero fatto male\n",
        "\n",
        "Se proviamo a convertire una stringa, che non contiene un numero, in un numero, otterremo un'eccezione. Le eccezioni sono i segnali che Python ci manda per comunicarci che si è verificato un'errore. Parleremo delle eccezioni nel dettaglio più avanti."
      ]
    },
    {
      "cell_type": "code",
      "metadata": {
        "colab": {
          "base_uri": "https://localhost:8080/",
          "height": 201
        },
        "id": "ZQ19r_PNQ8OY",
        "outputId": "217222dc-48cc-456f-9e8f-682da2a79275"
      },
      "source": [
        "var = \"boh\" # stringa che non contiene un numero\n",
        "var = int(var) # da stringa a intero, qui si scatena un'eccezione\n",
        "print(var, type(var))"
      ],
      "execution_count": null,
      "outputs": [
        {
          "ename": "ValueError",
          "evalue": "ignored",
          "output_type": "error",
          "traceback": [
            "\u001b[0;31m---------------------------------------------------------------------------\u001b[0m",
            "\u001b[0;31mValueError\u001b[0m                                Traceback (most recent call last)",
            "\u001b[0;32m<ipython-input-17-6b04af5af7aa>\u001b[0m in \u001b[0;36m<module>\u001b[0;34m()\u001b[0m\n\u001b[1;32m      1\u001b[0m \u001b[0mvar\u001b[0m \u001b[0;34m=\u001b[0m \u001b[0;34m\"boh\"\u001b[0m \u001b[0;31m# stringa che non contiene un numero\u001b[0m\u001b[0;34m\u001b[0m\u001b[0;34m\u001b[0m\u001b[0m\n\u001b[0;32m----> 2\u001b[0;31m \u001b[0mvar\u001b[0m \u001b[0;34m=\u001b[0m \u001b[0mint\u001b[0m\u001b[0;34m(\u001b[0m\u001b[0mvar\u001b[0m\u001b[0;34m)\u001b[0m \u001b[0;31m# da stringa a intero, qui si scatena un'eccezione\u001b[0m\u001b[0;34m\u001b[0m\u001b[0;34m\u001b[0m\u001b[0m\n\u001b[0m\u001b[1;32m      3\u001b[0m \u001b[0mprint\u001b[0m\u001b[0;34m(\u001b[0m\u001b[0mvar\u001b[0m\u001b[0;34m,\u001b[0m \u001b[0mtype\u001b[0m\u001b[0;34m(\u001b[0m\u001b[0mvar\u001b[0m\u001b[0;34m)\u001b[0m\u001b[0;34m)\u001b[0m\u001b[0;34m\u001b[0m\u001b[0;34m\u001b[0m\u001b[0m\n",
            "\u001b[0;31mValueError\u001b[0m: invalid literal for int() with base 10: 'boh'"
          ]
        }
      ]
    },
    {
      "cell_type": "markdown",
      "metadata": {
        "id": "Q-pl3kIVRr-i"
      },
      "source": [
        "## Formattazione\n",
        "La formattazione ci permette di inserire cifre e variabili all'interno di stringhe in un formato da noi desiderato. L'esempio più classico di formattazione è quello eseguito con l'operatore di formattazione %d."
      ]
    },
    {
      "cell_type": "code",
      "metadata": {
        "colab": {
          "base_uri": "https://localhost:8080/"
        },
        "id": "1xRFxFksRNIH",
        "outputId": "86353065-8db9-416a-f4fe-1e97a19b4f2c"
      },
      "source": [
        "age = 25\n",
        "print(\"Hai %d anni\" % age)"
      ],
      "execution_count": 1,
      "outputs": [
        {
          "output_type": "stream",
          "name": "stdout",
          "text": [
            "Hai 25 anni\n"
          ]
        }
      ]
    },
    {
      "cell_type": "markdown",
      "metadata": {
        "id": "dh_2rOL-Ryqw"
      },
      "source": [
        "Il carattere dopo l'operatore di formattazione indica il tipo di variabile, i principali sono:\n",
        "\n",
        "* **%d**: numero intero\n",
        "* **%f**: numero in virgola mobile\n",
        "* **%s**: stringa\n",
        "\n",
        "[Qui](https://docs.python.org/3/library/stdtypes.html#old-string-formatting) puoi trovare la lista completa.\n",
        "\n",
        "Possiamo anche utilizzare più operatori di formattazione all'interno di una stringa.\n"
      ]
    },
    {
      "cell_type": "code",
      "metadata": {
        "id": "9kYa9xBrUtvU"
      },
      "source": [
        "my_name = input(\"Come ti chiami ? \")\n",
        "my_age = input(\"Quanti anni hai ? \")\n",
        "my_age = int(my_age)\n",
        "my_born = 2019-my_age"
      ],
      "execution_count": null,
      "outputs": []
    },
    {
      "cell_type": "code",
      "metadata": {
        "colab": {
          "base_uri": "https://localhost:8080/",
          "height": 69
        },
        "id": "BPVoITKJR1Wb",
        "outputId": "f579f051-1145-44b1-ba21-d2dde5c9cc89"
      },
      "source": [
        "print(\"Il tuo nome è %s hai %d anni, quindi sei nato nel %d\" % (my_name, my_age, my_born))"
      ],
      "execution_count": null,
      "outputs": [
        {
          "name": "stdout",
          "output_type": "stream",
          "text": [
            "Come ti chiami ? Giuseppe\n",
            "Quanti anni hai ? 25\n",
            "Il tuo nome è Giuseppe hai 25 anni, quindi sei nato nel 1994\n"
          ]
        }
      ]
    },
    {
      "cell_type": "markdown",
      "metadata": {
        "id": "lwkSYEp7zeEk"
      },
      "source": [
        "**NOTA BENE** la funzione input ritorna una stringa, quindi abbiamo dovuto usare il casting per convertirla in un'intero\n",
        "<br><br>\n",
        "Nel caso di un float, possiamo pure definirne approssimarlo, definendone la precisione prima della *f*."
      ]
    },
    {
      "cell_type": "code",
      "metadata": {
        "id": "ivD89_Zhzv8g",
        "outputId": "c44f3ae0-dc21-4299-ab59-be289546fe3c",
        "colab": {
          "base_uri": "https://localhost:8080/"
        }
      },
      "source": [
        "my_height = float(input(\"Inserisci la tua altezza in metri: \"))\n",
        "my_weight = float(input(\"Inserisci il tuo peso in chilogrammi: \"))\n",
        "\n",
        "print(\"Altezza=%.2f  Peso=%.1f\" % (my_height, my_weight))"
      ],
      "execution_count": 2,
      "outputs": [
        {
          "output_type": "stream",
          "name": "stdout",
          "text": [
            "Inserisci la tua altezza in metri: 1.75\n",
            "Inserisci il tuo peso in chilogrammi: 80.520\n",
            "Altezza=1.75  Peso=80.5\n"
          ]
        }
      ]
    },
    {
      "cell_type": "markdown",
      "metadata": {
        "id": "Mbd1B_J6ShvZ"
      },
      "source": [
        "Un'altra soluzione ancora, quella consigliata per Python 3, consiste nell'utilizzare il metodo lo *format*."
      ]
    },
    {
      "cell_type": "code",
      "metadata": {
        "colab": {
          "base_uri": "https://localhost:8080/",
          "height": 69
        },
        "id": "XeC5kNzjTwHA",
        "outputId": "b751bb88-7d3b-4174-87cd-dfd58ab3fb0a"
      },
      "source": [
        "print(\"Il tuo nome è {name} hai {age} anni, quindi sei nato nel {born}\".format(name=my_name, age=my_age, born=my_born))"
      ],
      "execution_count": null,
      "outputs": [
        {
          "name": "stdout",
          "output_type": "stream",
          "text": [
            "Come ti chiami ? Giuseppe\n",
            "Quanti anni hai ? 25\n",
            "Il tuo nome è Giuseppe hai 25 anni, quindi sei nato nel 1994\n"
          ]
        }
      ]
    },
    {
      "cell_type": "markdown",
      "metadata": {
        "id": "5BxC7weC2Kno"
      },
      "source": [
        "Per quanto riguarda la precisione dei float, possiamo inserirla tra le parentesi graffe dopo il nome del placeholder, separandola con :"
      ]
    },
    {
      "cell_type": "code",
      "metadata": {
        "id": "VMLwBLRP1tUa",
        "outputId": "65f38c67-7605-4ef8-ba5d-70ad8e12113a",
        "colab": {
          "base_uri": "https://localhost:8080/"
        }
      },
      "source": [
        "print(\"Altezza={height:.2f} Peso={weight:.1f}\".format(height=my_height, weight=my_weight))"
      ],
      "execution_count": 13,
      "outputs": [
        {
          "output_type": "stream",
          "name": "stdout",
          "text": [
            "Altezza=1.75 Peso=80.5\n"
          ]
        }
      ]
    },
    {
      "cell_type": "markdown",
      "metadata": {
        "id": "39uiSiLaUkkG"
      },
      "source": [
        "Se usiamo una versione di Python superiore alla 3.6 abbiamo anche un'altro modo per formattare le stringhe, chiamato **f-strings**"
      ]
    },
    {
      "cell_type": "code",
      "metadata": {
        "colab": {
          "base_uri": "https://localhost:8080/",
          "height": 35
        },
        "id": "h1JOdItXUSlV",
        "outputId": "b81bfe0d-88ea-41e2-9e67-46dc6ba8029a"
      },
      "source": [
        "print(f\"Il tuo nome è {my_name} hai {my_age} anni, quindi sei nato nel {my_born}\")"
      ],
      "execution_count": null,
      "outputs": [
        {
          "name": "stdout",
          "output_type": "stream",
          "text": [
            "Il tuo nome è Giuseppe hai 25 anni, quindi sei nato nel 1994\n"
          ]
        }
      ]
    },
    {
      "cell_type": "markdown",
      "metadata": {
        "id": "Z1ucXxGh2ZqT"
      },
      "source": [
        "La precisione dei float funziona esattamente come per il metodo format"
      ]
    },
    {
      "cell_type": "code",
      "metadata": {
        "id": "tJRQEm7n0gIR",
        "outputId": "e607dcdc-5ed0-4d93-f064-2c5103d46cef",
        "colab": {
          "base_uri": "https://localhost:8080/"
        }
      },
      "source": [
        "print(f\"Altezza={my_height:.2f} Peso={my_weight:.1f}\")"
      ],
      "execution_count": 9,
      "outputs": [
        {
          "output_type": "stream",
          "name": "stdout",
          "text": [
            "Altezza=1.75 Peso=80.5\n"
          ]
        }
      ]
    }
  ]
}