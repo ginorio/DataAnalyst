{
  "nbformat": 4,
  "nbformat_minor": 0,
  "metadata": {
    "colab": {
      "name": "var_exercises.ipynb",
      "provenance": [],
      "collapsed_sections": [],
      "include_colab_link": true
    },
    "kernelspec": {
      "display_name": "Python 3",
      "language": "python",
      "name": "python3"
    },
    "language_info": {
      "codemirror_mode": {
        "name": "ipython",
        "version": 3
      },
      "file_extension": ".py",
      "mimetype": "text/x-python",
      "name": "python",
      "nbconvert_exporter": "python",
      "pygments_lexer": "ipython3",
      "version": "3.7.4"
    }
  },
  "cells": [
    {
      "cell_type": "markdown",
      "metadata": {
        "id": "view-in-github",
        "colab_type": "text"
      },
      "source": [
        "<a href=\"https://colab.research.google.com/github/ProfAI/programmazione-con-python/blob/main/2%20-%20Le%20Variabili%20e%20i%20Tipi%20di%20Dati/var_exercises.ipynb\" target=\"_parent\"><img src=\"https://colab.research.google.com/assets/colab-badge.svg\" alt=\"Open In Colab\"/></a>"
      ]
    },
    {
      "cell_type": "markdown",
      "metadata": {
        "id": "Hy1bgNlojTan"
      },
      "source": [
        "# Esercizi con le Variabili"
      ]
    },
    {
      "cell_type": "markdown",
      "metadata": {
        "id": "kHJ2SWjejfMa"
      },
      "source": [
        "## 1. Operazioni Aritmetiche [[Esercizio su HackerRank](https://www.hackerrank.com/challenges/python-arithmetic-operators/problem)]\n",
        "\n",
        "1 Inserisci due interi come input e stampa:\n",
        "\n",
        "1. La somma dei due numeri.\n",
        "2. La differenza tra i due numeri (primo - secondo).\n",
        "3. Il prodotto tra i due numeri."
      ]
    },
    {
      "cell_type": "code",
      "metadata": {
        "colab": {
          "base_uri": "https://localhost:8080/"
        },
        "id": "3DSCntfdjOvU",
        "outputId": "7091e2f7-e2d0-4b9f-ffed-a15090f0a68a"
      },
      "source": [
        "a = int(input())\n",
        "b = int(input())\n",
        "\n",
        "print(a+b)\n",
        "print(a-b)\n",
        "print(a*b)"
      ],
      "execution_count": 2,
      "outputs": [
        {
          "output_type": "stream",
          "name": "stdout",
          "text": [
            "3\n",
            "2\n",
            "5\n",
            "1\n",
            "6\n"
          ]
        }
      ]
    },
    {
      "cell_type": "markdown",
      "metadata": {
        "id": "2FtyaIXWkztb"
      },
      "source": [
        "## 2. Divisioni [[Esercizio su HackerRank](https://www.hackerrank.com/challenges/python-division/problem)]\n",
        "Leggi due interi come input e stampa:\n",
        "1. il risultato della divisione tra a e b come un numero intero\n",
        "2. il risultato della divisione tra a e b come un numero con la virgola\n"
      ]
    },
    {
      "cell_type": "code",
      "metadata": {
        "id": "ndYQza22kotE"
      },
      "source": [
        "a = int(input())\n",
        "b = int(input())\n",
        "\n",
        "print(a//b)\n",
        "print(a/b)"
      ],
      "execution_count": null,
      "outputs": []
    },
    {
      "cell_type": "markdown",
      "metadata": {
        "id": "shWmqul-2eq1"
      },
      "source": [
        "## 3. Potenze e Modulo\n",
        "\n",
        "Leggi un float e un intero come input e stampa:\n",
        "1. Il primo numero elevato al secondo.\n",
        "2. Il modulo del primo numero per il secondo.\n",
        "\n",
        "All'interno del print inserisci anche l'operazione che stai eseguendo\n",
        "<br><br>\n",
        "*esempio di output*<br>\n",
        "3**2=9<br>\n",
        "3%1=1<br>"
      ]
    },
    {
      "cell_type": "code",
      "metadata": {
        "id": "cyeVQfge246V"
      },
      "source": [
        "a = int(input())\n",
        "b = int(input())\n",
        "\n",
        "print(a**b)\n",
        "print(a%b)"
      ],
      "execution_count": null,
      "outputs": []
    },
    {
      "cell_type": "markdown",
      "metadata": {
        "id": "0UixnGnx1BDc"
      },
      "source": [
        "## 4. Swapping\n",
        "Lo swapping consiste nell'invertire il valore di due variabili.\n",
        "1. Prendi in input due valori e assegnali a due variabili A e B.\n",
        "2. Stampa le variabili su schermo.\n",
        "3. Assegna il valore di A a B e il valore di B ad A.\n",
        "4. Stampa le variabili su schermo."
      ]
    },
    {
      "cell_type": "code",
      "metadata": {
        "id": "gDaOlp8j1BDc",
        "outputId": "23a8dc9c-0002-47f4-d3f3-513dd7776610"
      },
      "source": [
        "a = int(input())\n",
        "b = int(input())\n",
        "\n",
        "c = b\n",
        "b = a\n",
        "a = c\n",
        "\n",
        "print(f\"A={a}, B={b}\")"
      ],
      "execution_count": null,
      "outputs": [
        {
          "name": "stdout",
          "output_type": "stream",
          "text": [
            "5\n",
            "2\n",
            "A=2, B=5\n"
          ]
        }
      ]
    },
    {
      "cell_type": "markdown",
      "metadata": {
        "id": "qEYepTog1BDe"
      },
      "source": [
        "### BONUS\n",
        "In python possiamo eseguire lo swapping senza aver bisogno di una terza variabile temporanea."
      ]
    },
    {
      "cell_type": "code",
      "metadata": {
        "id": "YUpkqoW11BDe",
        "outputId": "0218938a-1f27-46f5-ffa3-e322f91e7bc7"
      },
      "source": [
        "a = int(input())\n",
        "b = int(input())\n",
        "\n",
        "a, b = b, a\n",
        "\n",
        "print(f\"A={a}, B={b}\")"
      ],
      "execution_count": null,
      "outputs": [
        {
          "name": "stdout",
          "output_type": "stream",
          "text": [
            "5\n",
            "2\n",
            "A=2, B=5\n"
          ]
        }
      ]
    },
    {
      "cell_type": "markdown",
      "metadata": {
        "id": "Ar723bz51BDf"
      },
      "source": [
        "## 5. Casting e Formattazione\n",
        "Scriviamo un programma che richieda i tuoi dati e li stampi su schermo, i dati che il programma deve richiedere sono:\n",
        "1. Nome e Cognome\n",
        "2. Anno di nascita\n",
        "3. Luogo di Nascita\n",
        "4. Altezza (in metri)\n",
        "5. Peso (in kilogrammi)\n",
        "\n",
        "Infine il programma dovrà stampare tutte queste informazione, con altezza e peso arrotondate a 2 cifre dopo la virgola, insieme all'età della persona.\n",
        "<br><br>\n",
        "**ESEMPIO DI INPUT**<br>\n",
        "- Nome: Giuseppe Gullo<br>\n",
        "- Anno di nascita: 1938<br>\n",
        "- Luogi di nascita: Taormina<br>\n",
        "- Altezza (m): 1.75<br>\n",
        "- Peso (kg): 71.5<br>\n",
        "\n",
        "\n",
        "**ESEMPIO DI OUTPUT**<br>\n",
        "\"Giuseppe Gullo, 81 anni, nato a Taormina nel 1938, altezza: 1.75 m, peso: 71.50 kg\"  \n",
        "<br>\n",
        "**SUGGERIMENTI**\n",
        "1. La funzione input ritorna sempre una stringa, quindi se vogliamo dei numeri dobbiamo eseguire il casting.\n",
        "2. Possiamo arrotondare una cifra usando l'operatore di formattazione %.Nf, dove al posto di N dobbiamo inserire il numero di cifre dopo la virgola.\n",
        "3. Se invece utilizzi il metodo *format*, puoi arrotondare una cifra usando come placeholder {my_var:.{digits}f} dove my_var è il placeholder della tua variabile e digits è il placeholder per il numero di cifre dopo la virgola."
      ]
    },
    {
      "cell_type": "code",
      "metadata": {
        "id": "sloRqZ_F1BDg",
        "outputId": "5b0ac4d4-3edf-4665-9c75-33bf2bac8240"
      },
      "source": [
        "CURRENT_YEAR = 2019\n",
        "\n",
        "name = input(\"Nome: \")\n",
        "year = int(input(\"Anno di nascita: \"))\n",
        "place = input(\"Luogo di nascita: \")\n",
        "height = float(input(\"Altezza (m): \"))\n",
        "weight = float(input(\"Peso (kg): \"))\n",
        "\n",
        "age = CURRENT_YEAR - year\n",
        "\n",
        "# soluzione 1\n",
        "print(\"%s, %d anni, nato a %s nel %d, altezza: %.2f m, peso: %.2f kg\" % (name, age, place, year, height, weight))\n",
        "\n",
        "# soluzione 2\n",
        "print(\"{my_name}, {my_age} anni, nato a {my_place} nel {my_year}, altezza: {my_height:.{height_digits}f} m, peso: {my_weight:.{weight_digits}f} kg\".format(my_name=name, my_age=age, my_place=place, my_year=year, my_height=height, height_digits=2, my_weight=weight, weight_digits=2))\n",
        "\n",
        "# soluzione 3\n",
        "digits = 2\n",
        "print(f\"{name}, {age} anni, nato a {place} nel {year}, altezza: {height:.{digits}f} m, peso: {weight:.{digits}f} kg\")"
      ],
      "execution_count": null,
      "outputs": [
        {
          "name": "stdout",
          "output_type": "stream",
          "text": [
            "Giuseppe, 29 anni, nato a taormina nel 1991, altezza: 1.75 m, peso: 70.50 kg\n",
            "Giuseppe, 29 anni, nato a taormina nel 1991, altezza: 1.75 m, peso: 70.50 kg\n",
            "Giuseppe, 29 anni, nato a taormina nel 1991, altezza: 1.75 m, peso: 70.50 kg\n"
          ]
        }
      ]
    }
  ]
}