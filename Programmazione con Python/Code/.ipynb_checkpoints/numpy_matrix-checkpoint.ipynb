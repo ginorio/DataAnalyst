{
 "cells": [
  {
   "cell_type": "markdown",
   "metadata": {},
   "source": [
    "# Calcolo scientifico con Numpy: le Matrici\n",
    "Numpy è una libreria Python sviluppata appositamente per il calcolo scientifico, permette di operare su vettori e matrici anche di grandi dimensioni, utilizzando funzioni scritte in linguaggio C e quindi molto veloci.<br>\n",
    "Come ogni libreria Python, per utilizzare Numpy è necessario prima importarla."
   ]
  },
  {
   "cell_type": "code",
   "execution_count": 1,
   "metadata": {},
   "outputs": [],
   "source": [
    "import numpy as np"
   ]
  },
  {
   "cell_type": "markdown",
   "metadata": {},
   "source": [
    "# Matrici\n",
    "Una matrice è un insieme di numeri disposti su più righe o più colonne.\n",
    "<br><br>\n",
    "$$\n",
    "\\textbf{M} = \\begin{bmatrix}\n",
    "    3 & 5 & 9 \\\\\n",
    "    1 & 8 & 4 \\\\\n",
    "    2 & 6 & 7\n",
    "\\end{bmatrix}\n",
    "$$\n",
    "<br>\n",
    "M è una matrice di 3 righe e 3 colonne (matrice 3x3), l'accesso ad un valore valore è dato da due indici che rappresentano rispettivamente numero di riga e numero di colonna.<br><br> Nell'esempio M:  <span style=\"font-family: Monaco\">M[1,1] = 3, M[2,1] = 1, M[2,3] = 4, M[3,2] = 6</span><br><br>\n",
    "Numpy considera i vettori come matrici composti da una sola riga o da una sola colonna.\n",
    "<br><br>\n",
    "Per creare una matrice con Numpy possiamo semplicemente passare una lista bidimensionale alla funzione <span style=\"font-family: Monaco\">array</span>\n",
    "<br><br>\n",
    "**NOTA BENE:** In informatica (e soprattutto con Numpy) gli **array** rappresentano sia vettori che matrici, nello specifico per i vettori si parla di **array monodimensionali** mentre per le matrici si parla di array **bidimensionali**."
   ]
  },
  {
   "cell_type": "code",
   "execution_count": 2,
   "metadata": {},
   "outputs": [
    {
     "data": {
      "text/plain": [
       "array([[1, 2, 3],\n",
       "       [3, 4, 6],\n",
       "       [7, 8, 9]])"
      ]
     },
     "execution_count": 2,
     "metadata": {},
     "output_type": "execute_result"
    }
   ],
   "source": [
    "m = np.array([[1,2,3],[3,4,6],[7,8,9]])\n",
    "m"
   ]
  },
  {
   "cell_type": "markdown",
   "metadata": {},
   "source": [
    "Tramite gli attributi size e shape possiamo accedere rispettivamente al numero totale di elementi della matrice e alla dimensione della matrice, intesa come numero di righe e numero di colonne."
   ]
  },
  {
   "cell_type": "code",
   "execution_count": 3,
   "metadata": {},
   "outputs": [
    {
     "name": "stdout",
     "output_type": "stream",
     "text": [
      "Numero totale di elementi nella matrice\n",
      "9\n",
      "Dimensione della matrice\n",
      "(3, 3)\n"
     ]
    }
   ],
   "source": [
    "print(\"Numero totale di elementi nella matrice\")\n",
    "print(m.size)\n",
    "print(\"Dimensione della matrice\")\n",
    "print(m.shape)"
   ]
  },
  {
   "cell_type": "markdown",
   "metadata": {},
   "source": [
    "Per selezionare e modificare uno o più elementi di una matrice possiamo procedere come con un vettore, ma aggiungendo un secondo indice.\n",
    "In Numpy il primo indice corrisponde alla riga, il secondo alla colonna."
   ]
  },
  {
   "cell_type": "code",
   "execution_count": 4,
   "metadata": {},
   "outputs": [
    {
     "name": "stdout",
     "output_type": "stream",
     "text": [
      "Elemento alla prima colonna della prima riga: 1\n",
      "Elemento alla terza colonna colonna della seconda riga: 6\n",
      "Elemento all'ultima colonna dell'ultima riga: 9\n",
      "Prima riga della matrice: [1 2 3]\n",
      "Seconda colonna della matrice: [2 4 8] \n"
     ]
    }
   ],
   "source": [
    "print(\"Elemento alla prima colonna della prima riga: %d\" % (m[0,0]))\n",
    "print(\"Elemento alla terza colonna colonna della seconda riga: %d\" % (m[1,2]))\n",
    "print(\"Elemento all'ultima colonna dell'ultima riga: %d\" % (m[-1,-1])) #equivalente a m[2,2]\n",
    "\n",
    "\"\"\"\n",
    "Selezionando un'intera riga o colonna\n",
    "otterremo un vettore\n",
    "\"\"\"\n",
    "\n",
    "print(\"Prima riga della matrice: %s\" % m[0,:]) #l'operatore ':' indica di selezionare tutti gli elementi della prima riga\n",
    "print(\"Seconda colonna della matrice: %s \" % m[:,1])"
   ]
  },
  {
   "cell_type": "markdown",
   "metadata": {},
   "source": [
    "## Ridimensionare una matrice\n",
    "Utilizando il metodo reshape possiamo cambiare la dimensione di una matrice"
   ]
  },
  {
   "cell_type": "code",
   "execution_count": 5,
   "metadata": {},
   "outputs": [
    {
     "name": "stdout",
     "output_type": "stream",
     "text": [
      "Matrice 4x3\n",
      "[[ 1  2  3]\n",
      " [ 4  5  6]\n",
      " [ 7  8  9]\n",
      " [10 11 12]]\n",
      "\n",
      "Matrice ridimensionata in 3x4\n",
      "[[ 1  2  3  4]\n",
      " [ 5  6  7  8]\n",
      " [ 9 10 11 12]]\n"
     ]
    }
   ],
   "source": [
    "print(\"Matrice 4x3\")\n",
    "m = np.array([[1,2,3],[4,5,6],[7,8,9],[10,11,12]]) # Creare una matrice di dimensione 4x3\n",
    "print(m)\n",
    "\n",
    "m = m.reshape(3,4)\n",
    "\n",
    "print(\"\\nMatrice ridimensionata in 3x4\")\n",
    "print(m)"
   ]
  },
  {
   "cell_type": "markdown",
   "metadata": {},
   "source": [
    "## Flattening: da matrice a vettore\n",
    "Sempre utilizzando reshape è possibile far diventere una matrice un vettore \"spacchettando\" gli elementi all'interno di un'unica riga (o colonna), questo processo è chiamato **flattening**.<br>\n",
    "<img src=\"res/mat_to_vec.jpg\" width=\"600px\" />"
   ]
  },
  {
   "cell_type": "code",
   "execution_count": 6,
   "metadata": {},
   "outputs": [
    {
     "name": "stdout",
     "output_type": "stream",
     "text": [
      "Dimensione della matrice: (4, 3)\n"
     ]
    },
    {
     "data": {
      "text/plain": [
       "array([[ 1,  2,  3,  4,  5,  6,  7,  8,  9, 10, 11, 12]])"
      ]
     },
     "execution_count": 6,
     "metadata": {},
     "output_type": "execute_result"
    }
   ],
   "source": [
    "m = np.array([[1,2,3],[4,5,6],[7,8,9],[10,11,12]]) # Creare una matrice di dimensione 4x3\n",
    "print(\"Dimensione della matrice: \"+str(m.shape))\n",
    "m = m.reshape(1, m.size) # Srotolare tutti gli elementi all'interno di un unica riga\n",
    "m"
   ]
  },
  {
   "cell_type": "markdown",
   "metadata": {},
   "source": [
    "In realtà abbiamo ottenuto una matrice di dimensione 1x12 e non un vettore, per ottenere il vettore dobbiamo selezionare la prima (e unica) riga."
   ]
  },
  {
   "cell_type": "code",
   "execution_count": 7,
   "metadata": {},
   "outputs": [
    {
     "name": "stdout",
     "output_type": "stream",
     "text": [
      "Dimensione della matrice: (1, 12)\n",
      "Dimensione della matrice trasformata in vettore: (12,)\n"
     ]
    },
    {
     "data": {
      "text/plain": [
       "array([ 1,  2,  3,  4,  5,  6,  7,  8,  9, 10, 11, 12])"
      ]
     },
     "execution_count": 7,
     "metadata": {},
     "output_type": "execute_result"
    }
   ],
   "source": [
    "print(\"Dimensione della matrice: \"+str(m.shape))\n",
    "m = m[0]\n",
    "print(\"Dimensione della matrice trasformata in vettore: \"+str(m.shape))\n",
    "m"
   ]
  },
  {
   "cell_type": "markdown",
   "metadata": {},
   "source": [
    "Avremmo ottenuto lo stesso risultato utilizzando il metodo flatten."
   ]
  },
  {
   "cell_type": "code",
   "execution_count": 8,
   "metadata": {},
   "outputs": [
    {
     "data": {
      "text/plain": [
       "array([ 1,  2,  3,  4,  5,  6,  7,  8,  9, 10, 11, 12])"
      ]
     },
     "execution_count": 8,
     "metadata": {},
     "output_type": "execute_result"
    }
   ],
   "source": [
    "m = np.array([[1,2,3],[4,5,6],[7,8,9],[10,11,12]]) # Creare una matrice di dimensione 4x3\n",
    "m = m.flatten()\n",
    "m"
   ]
  }
 ],
 "metadata": {
  "kernelspec": {
   "display_name": "base",
   "language": "python",
   "name": "base"
  },
  "language_info": {
   "codemirror_mode": {
    "name": "ipython",
    "version": 3
   },
   "file_extension": ".py",
   "mimetype": "text/x-python",
   "name": "python",
   "nbconvert_exporter": "python",
   "pygments_lexer": "ipython3",
   "version": "3.7.3"
  }
 },
 "nbformat": 4,
 "nbformat_minor": 2
}
