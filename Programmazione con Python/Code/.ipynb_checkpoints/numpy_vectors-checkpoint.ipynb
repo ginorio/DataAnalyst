{
 "cells": [
  {
   "cell_type": "markdown",
   "metadata": {},
   "source": [
    "# Calcolo scientifico con Numpy: i Vettori\n",
    "Numpy è una libreria Python sviluppata appositamente per il calcolo scientifico, permette di operare su vettori e matrici anche di grandi dimensioni, utilizzando funzioni scritte in linguaggio C e quindi molto veloci.<br>\n",
    "Come ogni libreria Python, per utilizzare Numpy è necessario prima importarla."
   ]
  },
  {
   "cell_type": "code",
   "execution_count": 1,
   "metadata": {},
   "outputs": [],
   "source": [
    "import numpy as np"
   ]
  },
  {
   "cell_type": "markdown",
   "metadata": {},
   "source": [
    "## Vettori\n",
    "Il calcolo tra vettori e matrici ricopre un ruolo fondamentale non solo nel Machine Learning, ma in ogni branca dell'Intelligenza Artificiale e dell'Informatica in generale.\n",
    "Un vettore è un elemento che contiene un insieme ordinato di numeri disposti su una sola riga (vettore riga) o su una sola colonna.\n",
    "\n",
    "$$ \\textbf{v} = \\begin{bmatrix} 5 & 3 & 9 & 1 & 6 \\end{bmatrix} $$\n",
    "\n",
    "$$ \\textbf{v} = \\begin{bmatrix}\n",
    "    5 \\\\\n",
    "    3 \\\\\n",
    "    9 \\\\\n",
    "    1 \\\\\n",
    "    6\n",
    "\\end{bmatrix}\n",
    "$$\n",
    "Per creare un vettore numpy è sufficente passare una lista di numeri alla funzione <span style=\"font-family: Monaco\">array</span>\n"
   ]
  },
  {
   "cell_type": "code",
   "execution_count": 2,
   "metadata": {},
   "outputs": [
    {
     "data": {
      "text/plain": [
       "list"
      ]
     },
     "execution_count": 2,
     "metadata": {},
     "output_type": "execute_result"
    }
   ],
   "source": [
    "v = [10, 15, 20, 25, 30] # lista python\n",
    "type(v)"
   ]
  },
  {
   "cell_type": "code",
   "execution_count": 3,
   "metadata": {},
   "outputs": [
    {
     "data": {
      "text/plain": [
       "numpy.ndarray"
      ]
     },
     "execution_count": 3,
     "metadata": {},
     "output_type": "execute_result"
    }
   ],
   "source": [
    "v = np.array(v) # vettore numpy\n",
    "type(v)"
   ]
  },
  {
   "cell_type": "markdown",
   "metadata": {},
   "source": [
    "### Selezione degli elementi di un vettore\n",
    "E' possibile accedere ad un elemento di un vettore nello stesso modo in cui si accede all'elemento di una lista, cioè utilizzando il suo indice."
   ]
  },
  {
   "cell_type": "code",
   "execution_count": 4,
   "metadata": {},
   "outputs": [
    {
     "name": "stdout",
     "output_type": "stream",
     "text": [
      "Primo elemento del vettore: 10 \n",
      "Secondo elemento del vettore: 15 \n",
      "Ultimo elemento del vettore: 30 \n",
      "Penultimo elemento del vettore: 25 \n",
      "Primi 3 elementi del vettore: [10 15 20]\n",
      "Ultimi 2 elementi del vettore: [25 30]\n",
      "Dal secondo al quarto elemento del vettore: [15 20 25]\n"
     ]
    }
   ],
   "source": [
    "print(\"Primo elemento del vettore: %d \" % (v[0]))\n",
    "print(\"Secondo elemento del vettore: %d \" % (v[1]))\n",
    "\n",
    "\"\"\"utilizzando indici negativi è possibile\n",
    "accedere al vettore a ritroso\"\"\"\n",
    "\n",
    "print(\"Ultimo elemento del vettore: %d \" % (v[-1]))\n",
    "print(\"Penultimo elemento del vettore: %d \" % (v[-2]))\n",
    "\n",
    "\"\"\"L'operatore ':' ci permette di eseguire lo slicing del vettore\n",
    "\n",
    "\"\"\"\n",
    "\n",
    "print(\"Primi 3 elementi del vettore: %s\" % (v[:3])) #stampa gli elementi alla posizione 0,1 e 2\n",
    "print(\"Ultimi 2 elementi del vettore: %s\" % (v[-2:])) #stampa gli elementi alla posizione 3 e 4\n",
    "print(\"Dal secondo al quarto elemento del vettore: %s\" % (v[1:4]))"
   ]
  },
  {
   "cell_type": "markdown",
   "metadata": {},
   "source": [
    "Oltre al classico indexing, è anche possibile utilizzare delle maschere per selezionare solo i valori che soddisfano determinate condizioni.\n",
    "Una maschera è semplicemente una lista di valori booleani, i valori dell'array che corrispondo ad un True nella maschera verranno selezionati, quelli che corrispondono ad un false verranno scartati."
   ]
  },
  {
   "cell_type": "code",
   "execution_count": 5,
   "metadata": {
    "scrolled": true
   },
   "outputs": [
    {
     "name": "stdout",
     "output_type": "stream",
     "text": [
      "[False False False  True  True]\n",
      "Valori di v che sono maggiori di 20: [25 30]\n"
     ]
    }
   ],
   "source": [
    "mask = v>20 # creiamo una maschera per i valori di v che sono maggiori di 20\n",
    "print(mask) # una maschera non è altro che una lista di valori booleani\n",
    "print(\"Valori di v che sono maggiori di 20: %s\" % v[mask]) # applichiamo la maschera come fosse un indice"
   ]
  },
  {
   "cell_type": "markdown",
   "metadata": {},
   "source": [
    "Solitamente questo passaggio viene eseguito all'interno di un'unica istruzione"
   ]
  },
  {
   "cell_type": "code",
   "execution_count": 6,
   "metadata": {},
   "outputs": [
    {
     "data": {
      "text/plain": [
       "array([10, 15])"
      ]
     },
     "execution_count": 6,
     "metadata": {},
     "output_type": "execute_result"
    }
   ],
   "source": [
    "v_lm = v[v<v.mean()] # creiamo un nuovo vettore che contiene solo i valori di v che sono minori del valore medio\n",
    "v_lm"
   ]
  },
  {
   "cell_type": "markdown",
   "metadata": {},
   "source": [
    "**NOTA BENE** La sola applicazione di una maschera non modifica il vettore se non viene eseguita un'assegnazione.<br><br>\n"
   ]
  },
  {
   "cell_type": "code",
   "execution_count": 7,
   "metadata": {},
   "outputs": [
    {
     "name": "stdout",
     "output_type": "stream",
     "text": [
      "[10 15 20 25 30]\n",
      "[10 15]\n"
     ]
    }
   ],
   "source": [
    "v[v<v.mean()] # il valore di v non cambia\n",
    "print(v)\n",
    "\n",
    "v = v[v<v.mean()] # il valore di v cambia\n",
    "print(v)"
   ]
  },
  {
   "cell_type": "markdown",
   "metadata": {},
   "source": [
    "### Modifica di un elemento di un vettore\n",
    "Per modificare uno o più elementi di un vettore basta eseguire una semplice assegnazione"
   ]
  },
  {
   "cell_type": "code",
   "execution_count": 8,
   "metadata": {},
   "outputs": [
    {
     "name": "stdout",
     "output_type": "stream",
     "text": [
      "[ 4  5  3 10  7]\n"
     ]
    }
   ],
   "source": [
    "v = np.array([1, 2 , 3 ,4, 5]) # definisco un nuovo vettore\n",
    "v[0] = 10 # sostituisco il valore 1 con 10 come primo elemento del vettore\n",
    "v[1] = v[2]+v[3] # assegno la somma degli elementi alla posizione 3 e 4 del vettore all'emento in posizione 2 \n",
    "\n",
    "\"\"\"\n",
    "Adesso scambio gli elementi alle prime 2 posizioni\n",
    "con quelli alle ultime due, per farlo creo un vettore temporaneo\n",
    "\"\"\"\n",
    "\n",
    "tmp = np.array([])\n",
    "tmp = v[:2].copy() # utilizzo copy per eseguire un'assegnazione per valore e non per riferimento\n",
    "v[:2] = v[-2:]\n",
    "v[-2:] = tmp\n",
    "\n",
    "print(v)"
   ]
  },
  {
   "cell_type": "markdown",
   "metadata": {},
   "source": [
    "## Operazioni tra vettori"
   ]
  },
  {
   "cell_type": "code",
   "execution_count": 9,
   "metadata": {},
   "outputs": [
    {
     "name": "stdout",
     "output_type": "stream",
     "text": [
      "a + b = [15 30 45 60 75]\n",
      "a - b = [ 5 10 15 20 25]\n",
      "a * b = [  50  200  450  800 1250]\n"
     ]
    }
   ],
   "source": [
    "a = np.array([10, 20, 30, 40, 50])\n",
    "b = np.array([5, 10, 15, 20, 25])\n",
    "\n",
    "print(\"a + b = %s\" % (a+b)) # somma tra i vettori a e b\n",
    "print(\"a - b = %s\" % (a-b)) # differenza tra i vettori a e b\n",
    "print(\"a * b = %s\" % (a*b)) # prodotto elemento per elemento dei vettori a e b"
   ]
  },
  {
   "cell_type": "markdown",
   "metadata": {},
   "source": [
    "Perchè ho sottolineato che il prodotto è un prodotto \"elemento per elemento\" ? Perchè l'algebra lineare definisce anche un altro tipo di prodotto tra vettori, il prodotto scalare (in inglese: dot product), che da come risultato un singolo numero.\n",
    "Il prodotto scalare è definito come la somma del prodotto di ogni elemento del vettore a per il corrispondente elemento del vettore b.<br>\n",
    "<img src=\"res/dot_vec_vec.jpg\" width=\"750px\" />"
   ]
  },
  {
   "cell_type": "code",
   "execution_count": 10,
   "metadata": {},
   "outputs": [
    {
     "data": {
      "text/plain": [
       "array([[27, 31],\n",
       "       [60, 58]])"
      ]
     },
     "execution_count": 10,
     "metadata": {},
     "output_type": "execute_result"
    }
   ],
   "source": [
    "np.dot(a,b) # prodotto scalare dei vettori a e b\n",
    "np.dot(np.array([[1,3,5],[4,6,8]]),np.array([[4,2],[6,3],[1,4]]))"
   ]
  },
  {
   "cell_type": "markdown",
   "metadata": {},
   "source": [
    "## Operazioni su un singolo vettore"
   ]
  },
  {
   "cell_type": "code",
   "execution_count": 11,
   "metadata": {},
   "outputs": [
    {
     "name": "stdout",
     "output_type": "stream",
     "text": [
      "[5 8 0 9 2]\n",
      "[5 8 0 2]\n",
      "[ 5  8 13  0  2]\n",
      "[ 8  5  2 13  0]\n"
     ]
    }
   ],
   "source": [
    "v = np.array([5, 8 , 0, 9, 2])\n",
    "print(v)\n",
    "v = np.delete(v,3) # rimuove l'elemento alla posizone 3\n",
    "print(v)\n",
    "v = np.insert(v, 2, 13) # inserisci il valore 13 alla posizione 2\n",
    "print(v)\n",
    "np.random.shuffle(v) #mescola gli elementi nel vettore\n",
    "print(v)"
   ]
  },
  {
   "cell_type": "markdown",
   "metadata": {},
   "source": [
    "## Funzioni di base"
   ]
  },
  {
   "cell_type": "code",
   "execution_count": 12,
   "metadata": {},
   "outputs": [
    {
     "name": "stdout",
     "output_type": "stream",
     "text": [
      "Numero di elementi del vettore 5\n",
      "Elementi ordinati del vettore: [ 0  2  5  8 13]\n",
      "Somma di tutti gli elemento di v: 28\n"
     ]
    }
   ],
   "source": [
    "print(\"Numero di elementi del vettore %d\" % (len(v)))\n",
    "print(\"Elementi ordinati del vettore: %s\" % (np.sort(v)))\n",
    "print(\"Somma di tutti gli elemento di v: %d\" % (np.sum(v)))"
   ]
  },
  {
   "cell_type": "code",
   "execution_count": null,
   "metadata": {},
   "outputs": [],
   "source": []
  }
 ],
 "metadata": {
  "kernelspec": {
   "display_name": "base",
   "language": "python",
   "name": "base"
  },
  "language_info": {
   "codemirror_mode": {
    "name": "ipython",
    "version": 3
   },
   "file_extension": ".py",
   "mimetype": "text/x-python",
   "name": "python",
   "nbconvert_exporter": "python",
   "pygments_lexer": "ipython3",
   "version": "3.7.3"
  }
 },
 "nbformat": 4,
 "nbformat_minor": 2
}
