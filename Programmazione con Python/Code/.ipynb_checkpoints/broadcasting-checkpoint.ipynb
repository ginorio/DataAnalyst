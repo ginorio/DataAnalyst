{
 "cells": [
  {
   "cell_type": "markdown",
   "metadata": {},
   "source": [
    "## Broadcasting e Vettorizzazione\n",
    "Dato che Numpy non fa differenza tra matrici e vettori, le operazioni sulle matrici sono le stesse dei vettori.<br><br>\n",
    "Invece, la somma tra matrici e vettori aventi lo stesso numero di righe (o colonne) avviene sommando il vettore per ogni riga (o colonna) dell'array. Questa operazione si chiama broadcasting.\n",
    "<img src=\"res/broadcasting.jpg\" width=\"600px\"/>"
   ]
  },
  {
   "cell_type": "code",
   "execution_count": 3,
   "metadata": {},
   "outputs": [
    {
     "data": {
      "text/plain": [
       "array([[10, 10,  4],\n",
       "       [11,  6,  3],\n",
       "       [13,  6, 10]])"
      ]
     },
     "execution_count": 3,
     "metadata": {},
     "output_type": "execute_result"
    }
   ],
   "source": [
    "import numpy as np\n",
    "\n",
    "v = np.array([7,3,2])\n",
    "m = np.array([[3,7,2],[4,3,1],[6,3,8]])\n",
    "v+m"
   ]
  },
  {
   "cell_type": "code",
   "execution_count": 4,
   "metadata": {},
   "outputs": [],
   "source": [
    "v = np.random.randint(10,size=[3,3])"
   ]
  },
  {
   "cell_type": "markdown",
   "metadata": {},
   "source": [
    "## Prodotto scalare tra matrici\n",
    "Nel caso di matrici il prodotto scalare può essere eseguito solo se il numero di colonne della prima equivale al numero di righe della seconda, in questo caso si esegue sommando i prodotti di ogni elemento di ogni riga della prima per il corrispondente\n",
    "elemeno della corrispondente colonna della seconda (e' più semplice a farsi che a dirsi, osserva bene l'esempio qui sotto)<br>.\n",
    "<img src=\"res/dot_mat_mat.jpg\" width=\"750px\" />\n",
    "<br>\n",
    "**NOTA BENE** Il prodotto scalare tra due vettori non è altro che un caso particolare di questo, in cui il primo vettore viene considerato come un vettore-riga e il secondo come un vettore-colonna."
   ]
  },
  {
   "cell_type": "code",
   "execution_count": 5,
   "metadata": {},
   "outputs": [
    {
     "data": {
      "text/plain": [
       "array([[27, 31],\n",
       "       [60, 58]])"
      ]
     },
     "execution_count": 5,
     "metadata": {},
     "output_type": "execute_result"
    }
   ],
   "source": [
    "m1 = np.array([[1,3,5],[4,6,8]])\n",
    "m2 = np.array([[4,2],[6,3],[1,4]])\n",
    "np.dot(m1,m2)"
   ]
  },
  {
   "cell_type": "markdown",
   "metadata": {},
   "source": [
    "### Capire il parametro axis\n",
    "Alcune funzioni di Numpy agiscono sull'intera matrice, oppure sui singoli vettori-riga o vettori-colonna che compongono la matrice. Questo può essere controllato tramite il parametro <span style=\"font-family: Monaco\">axis</span>."
   ]
  },
  {
   "cell_type": "markdown",
   "metadata": {},
   "source": [
    "# Vettorizzazione\n",
    "La vettorizzazione permette di eseguire operazioni su array Numpy senza utilizzare esplicitamente cicli for.<br>\n",
    "Esempi sono le varie operazioni aritmetiche tra gli array.\n",
    "<br>I cicli vengono gestiti internamente da Numpy in linguaggio C, garantendo performance notevolmente più evelate."
   ]
  },
  {
   "cell_type": "code",
   "execution_count": 6,
   "metadata": {},
   "outputs": [
    {
     "name": "stdout",
     "output_type": "stream",
     "text": [
      "Esecuzione con ciclo for: 0.176502 secondi\n",
      "Esecuzione vettorizzata con Numpy: 0.000514 secondi\n",
      "L'esecuzione vettorizzata è 343 volte più veloce\n"
     ]
    }
   ],
   "source": [
    "import numpy as np\n",
    "from timeit import Timer\n",
    "\n",
    "m = np.arange(100000)\n",
    "\n",
    "def loop_sum():\n",
    "    return [val + 1 for val in m]\n",
    "\n",
    "def numpy_sum():\n",
    "    return m+1\n",
    "\n",
    "exctime_loop = min(Timer(loop_sum).repeat(10,10))\n",
    "exctime_num = min(Timer(numpy_sum).repeat(10,10))\n",
    "\n",
    "0.22/0.0005\n",
    "\n",
    "print(\"Esecuzione con ciclo for: %f secondi\" % exctime_loop)\n",
    "print(\"Esecuzione vettorizzata con Numpy: %f secondi\" % exctime_num)\n",
    "\n",
    "print(\"L'esecuzione vettorizzata è %d volte più veloce\" % int(exctime_loop/exctime_num))"
   ]
  },
  {
   "cell_type": "markdown",
   "metadata": {},
   "source": [
    "Capire e padroneggiare la vettorizzazione è fondamentale per sfruttare al massimo le potenzialità di Numpy."
   ]
  }
 ],
 "metadata": {
  "kernelspec": {
   "display_name": "base",
   "language": "python",
   "name": "base"
  },
  "language_info": {
   "codemirror_mode": {
    "name": "ipython",
    "version": 3
   },
   "file_extension": ".py",
   "mimetype": "text/x-python",
   "name": "python",
   "nbconvert_exporter": "python",
   "pygments_lexer": "ipython3",
   "version": "3.7.3"
  }
 },
 "nbformat": 4,
 "nbformat_minor": 2
}
