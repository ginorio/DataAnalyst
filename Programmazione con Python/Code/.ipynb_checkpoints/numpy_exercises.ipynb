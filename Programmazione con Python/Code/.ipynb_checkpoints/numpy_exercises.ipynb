{
  "nbformat": 4,
  "nbformat_minor": 0,
  "metadata": {
    "kernelspec": {
      "display_name": "base",
      "language": "python",
      "name": "base"
    },
    "language_info": {
      "codemirror_mode": {
        "name": "ipython",
        "version": 3
      },
      "file_extension": ".py",
      "mimetype": "text/x-python",
      "name": "python",
      "nbconvert_exporter": "python",
      "pygments_lexer": "ipython3",
      "version": "3.7.3"
    },
    "colab": {
      "name": "numpy_exercises-checkpoint.ipynb",
      "provenance": []
    }
  },
  "cells": [
    {
      "cell_type": "markdown",
      "metadata": {
        "id": "VbTJL0Fa6NzG",
        "colab_type": "text"
      },
      "source": [
        "# Esercizi con Numpy"
      ]
    },
    {
      "cell_type": "markdown",
      "metadata": {
        "id": "d-pCzQtp6NzI",
        "colab_type": "text"
      },
      "source": [
        "## 1. Array inversi [[Esercizio su HackerRank](https://www.hackerrank.com/challenges/np-arrays/problem)]\n",
        "Acquisici in input una lista di numeri, definisci una funzione per creare un'array numpy di float partendo dalla lista con l'ordine degli elementi invertito.\n",
        "<br><br>\n",
        "**Esempio di input**<br>\n",
        "1 2 3 4 -8 -10\n",
        "<br><br>\n",
        "**Esempio di output**<br>\n",
        "[-10.  -8.   4.   3.   2.   1.]\n",
        "<br><br>\n",
        "##### SUGGERIMENTO\n",
        "* Puoi definire il tipo di un'array durante la sua creazione"
      ]
    },
    {
      "cell_type": "code",
      "metadata": {
        "id": "JtcBoj7O6t3v",
        "colab_type": "code",
        "colab": {}
      },
      "source": [
        "import numpy as np\n",
        "\n",
        "a = np.array([1,2,3], float)\n",
        "print(a)"
      ],
      "execution_count": 0,
      "outputs": []
    },
    {
      "cell_type": "markdown",
      "metadata": {
        "id": "9JmKwObX6vLG",
        "colab_type": "text"
      },
      "source": [
        "#### SOLUZIONE"
      ]
    },
    {
      "cell_type": "code",
      "metadata": {
        "id": "kudjOteJ6NzJ",
        "colab_type": "code",
        "colab": {},
        "outputId": "2dcecc79-eca0-4d39-ef3d-a8c3c0f3be55"
      },
      "source": [
        "import numpy as np\n",
        "\n",
        "def arrays(arr):\n",
        "    # numpy.array(arr, float)[::-1]\n",
        "    np_arr = np.array(arr, float)\n",
        "    np_arr = np_arr[::-1]\n",
        "    return np_arr\n",
        "\n",
        "\n",
        "arr = input().strip().split(' ')\n",
        "result = arrays(arr)\n",
        "print(result)"
      ],
      "execution_count": 0,
      "outputs": [
        {
          "output_type": "stream",
          "text": [
            "1 2 3 4 5\n",
            "[5. 4. 3. 2. 1.]\n"
          ],
          "name": "stdout"
        }
      ]
    },
    {
      "cell_type": "markdown",
      "metadata": {
        "id": "ofGSVa0X6NzM",
        "colab_type": "text"
      },
      "source": [
        "## 2. Shape e Reshape [[Esercizio su HackerRank](https://www.hackerrank.com/challenges/np-shape-reshape/problem)]\n",
        "Acquisisci in input una lista di 9 numeri interi, converti tale lista in un'array numpy di dimensione 3x3\n",
        "<br><br>\n",
        "**Esempio di input**<br>\n",
        "1 2 3 4 5 6 7 8 9\n",
        "<br><br>\n",
        "**Esempio di output**<br>\n",
        "[[1 2 3]<br>\n",
        " [4 5 6]<br>\n",
        " [7 8 9]]<br>"
      ]
    },
    {
      "cell_type": "code",
      "metadata": {
        "id": "quPg8njs6NzM",
        "colab_type": "code",
        "colab": {},
        "outputId": "beb8e424-22ce-4c19-911e-71ddc4a99dd9"
      },
      "source": [
        "import numpy as np\n",
        "\n",
        "# print(np.array(input().split(),int).reshape(3,3)) \n",
        "    \n",
        "arr = input().split()\n",
        "np_arr = np.array(arr, int)\n",
        "np_arr = np_arr.reshape(3,3)\n",
        "\n",
        "print(np_arr)"
      ],
      "execution_count": 0,
      "outputs": [
        {
          "output_type": "stream",
          "text": [
            "1 2 3 4 5 6 7 8 9\n",
            "[[1 2 3]\n",
            " [4 5 6]\n",
            " [7 8 9]]\n"
          ],
          "name": "stdout"
        }
      ]
    },
    {
      "cell_type": "markdown",
      "metadata": {
        "id": "hI2VyKJF6NzO",
        "colab_type": "text"
      },
      "source": [
        "## 3. Transpose and Flatten [[Esercizio su HackerRank](https://www.hackerrank.com/challenges/np-transpose-and-flatten/problem)]\n",
        "1. Acquisci in input due numeri *N* e *M*.\n",
        "2. Acquisci in input *N* righe con *M* interi e utilizzali per creare una matrice numpy.\n",
        "3. Stampa la matrice trasposta.\n",
        "4. Stampa la matrice flatten."
      ]
    },
    {
      "cell_type": "code",
      "metadata": {
        "id": "H4jQTFf86NzO",
        "colab_type": "code",
        "colab": {}
      },
      "source": [
        "import numpy as np\n",
        "\n",
        "n, m = map(int, input().split())\n",
        "array = np.array([input().strip().split() for _ in range(n)], int)\n",
        "print (array.transpose())\n",
        "print (array.flatten())"
      ],
      "execution_count": 0,
      "outputs": []
    },
    {
      "cell_type": "markdown",
      "metadata": {
        "id": "51OmbjTl6NzQ",
        "colab_type": "text"
      },
      "source": [
        "## 4. Aritmetica degli array [[Esercizio su HackerRank](https://www.hackerrank.com/challenges/np-array-mathematics/problem)]\n",
        "1. Acquisisci due numeri *N* e *M* in input\n",
        "2. Acquisisci N righe di interi e utilizzale per creare la matrice numpy A\n",
        "3. Acquisisci N righe di interi e utilizzale per creare la matrice numpy B\n",
        "4. Stampa la somma delle matrici A e B\n",
        "5. Stampa la differenza delle matrici A e B\n",
        "6. Stampa il prodotto delle matrici A e B\n",
        "7. Stampa la divisione tra interi tra le matrici A e B\n",
        "8. Stampa il risultato del modulo tra le matrici A e B\n",
        "9. Stampa il risultato della matrice A elevata la matrice B."
      ]
    },
    {
      "cell_type": "code",
      "metadata": {
        "id": "aS13C4bO6NzQ",
        "colab_type": "code",
        "colab": {}
      },
      "source": [
        "import numpy as np\n",
        "\n",
        "n, m = map(int, input().split())\n",
        "\n",
        "A = np.array([input().strip().split() for _ in range(n)], int)\n",
        "B = np.array([input().strip().split() for _ in range(n)], int)\n",
        "\n",
        "print(A+B)\n",
        "print(A-B)\n",
        "print(A*B)\n",
        "print(A//B)\n",
        "print(A%B)\n",
        "print(A**B)"
      ],
      "execution_count": 0,
      "outputs": []
    },
    {
      "cell_type": "markdown",
      "metadata": {
        "id": "r15bBAld6NzS",
        "colab_type": "text"
      },
      "source": [
        "## 5. Funzioni statistiche [[Esercizio su HackerRank 1](https://www.hackerrank.com/challenges/np-mean-var-and-std/problem) [Esercizio su HackerRank 2](https://www.hackerrank.com/challenges/np-min-and-max/problem)]\n",
        "1. Acquisisci in input due valori N e M\n",
        "2. Acquisci N righe di M elementi e utilizzale per creare una matrice A\n",
        "3. Stampa la media di A lungo l'asse 1\n",
        "4. Stampa la varianza di A lungo l'asse 0\n",
        "5. Stampa la deviazione standard di A.\n",
        "6. Calcola il minimo lungo l'asse 1 e poi stampa il massimo di questo risultato."
      ]
    },
    {
      "cell_type": "markdown",
      "metadata": {
        "id": "Zz8Lm7Y96NzT",
        "colab_type": "text"
      },
      "source": [
        "### [Altri esercizi su HackerRank](https://www.hackerrank.com/challenges/np-arrays/problem)"
      ]
    },
    {
      "cell_type": "code",
      "metadata": {
        "id": "ddCmX59m6NzT",
        "colab_type": "code",
        "colab": {}
      },
      "source": [
        ""
      ],
      "execution_count": 0,
      "outputs": []
    }
  ]
}