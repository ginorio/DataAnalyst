{
 "cells": [
  {
   "cell_type": "markdown",
   "id": "92bccd50",
   "metadata": {},
   "source": [
    "## Esercizi con virtualenv"
   ]
  },
  {
   "cell_type": "markdown",
   "id": "d4903526",
   "metadata": {},
   "source": [
    "### Editor di immagini su ambiente virtuale\n",
    "Per questo esercizio dovrai riprendere il progetto già svolto nella sezione dedicata a PIP e PyPI, e farlo girare all'interno di un apposito ambiente virtuale.\n",
    "1. Crea un'ambiente virtuale, specificando manualmente la versione di Python da utilizzare.\n",
    "2. Al suo interno, installa i moduli che hai usato per il progetto specificandone la versione (usa anche matplotlib per visualizzare l'immagine dentro il Notebook).\n",
    "3. Installa un kernel IPython e fai girare il progetto su Jupyter Notebook.\n",
    "4. Esporta i moduli installati su di un file requirements.txt.\n",
    "5. Cancella l'ambiente virtuale e disinstalla il kernel\n",
    "6. Ricrea l'ambiente virtuale, se puoi su di un altro computer, altrimenti in un'altra posizione del tuo, ricordati di specificare la stessa versione di python indicata per l'ambiente originale.\n",
    "7. Installa le varie dipendenze utilizzando il file requirements.txt.\n",
    "8. Installa un kernel IPython e fai girare nuovamente il progetto su Jupyter Notebook."
   ]
  },
  {
   "cell_type": "code",
   "execution_count": null,
   "id": "9092b794",
   "metadata": {},
   "outputs": [],
   "source": [
    "# virtualenv env_img_editor --python=python3.8\n",
    "# pip install Pillow==8.4.0 matplotlib==3.3.4\n",
    "# python -m ipykernel install --user --name=img_editor\n",
    "# pip freeze > requirements.txt\n",
    "# jupyter kernelspec uninstall venvtest\n",
    "# ...\n",
    "# pip install -r requirements.txt\n",
    "# ..."
   ]
  }
 ],
 "metadata": {
  "kernelspec": {
   "display_name": "Python 3.7.4 64-bit ('base': conda)",
   "language": "python",
   "name": "python37464bitbaseconda78b00ce9b4da4d77b0796cc32fd5efe8"
  },
  "language_info": {
   "codemirror_mode": {
    "name": "ipython",
    "version": 3
   },
   "file_extension": ".py",
   "mimetype": "text/x-python",
   "name": "python",
   "nbconvert_exporter": "python",
   "pygments_lexer": "ipython3",
   "version": "3.8.8"
  }
 },
 "nbformat": 4,
 "nbformat_minor": 5
}
