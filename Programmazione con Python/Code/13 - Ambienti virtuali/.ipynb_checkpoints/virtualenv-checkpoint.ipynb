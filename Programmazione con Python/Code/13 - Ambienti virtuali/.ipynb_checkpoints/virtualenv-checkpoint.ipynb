{
 "cells": [
  {
   "cell_type": "markdown",
   "id": "5c8dc2e4",
   "metadata": {},
   "source": [
    "## Ambienti virtuali con virtualenv"
   ]
  },
  {
   "cell_type": "markdown",
   "id": "39eae543",
   "metadata": {},
   "source": [
    "#### Installazione e configurazione"
   ]
  },
  {
   "cell_type": "code",
   "execution_count": null,
   "id": "16a4b0de",
   "metadata": {},
   "outputs": [],
   "source": [
    "# Installazione\n",
    "# pip install venv\n",
    "\n",
    "# Creazione dell'ambiente\n",
    "# python -m venv myenv\n",
    "\n",
    "# Attivazione dell'ambiente (windows)\n",
    "# venv/Script/activate\n",
    "\n",
    "# Attivazione dell'ambiente (unix/linux)\n",
    "# source venv/bin/activate\n",
    "\n",
    "# Uscire dall'ambiente\n",
    "# deactivate"
   ]
  },
  {
   "cell_type": "markdown",
   "id": "59ff9184",
   "metadata": {},
   "source": [
    "#### virtualenvwrapper"
   ]
  },
  {
   "cell_type": "code",
   "execution_count": 4,
   "id": "656a998d",
   "metadata": {},
   "outputs": [],
   "source": [
    "# Installazione (windows)\n",
    "# pip install virtualenvwrapper-win\n",
    "\n",
    "# Installazione (unix/linux)\n",
    "# pip install virtualenvwrapper\n",
    "\n",
    "# Creazione dell'ambiente\n",
    "# virtualenv myenv"
   ]
  },
  {
   "cell_type": "markdown",
   "id": "a85c50cf",
   "metadata": {},
   "source": [
    "#### Creare un'ambiente con una specifica versione di Python"
   ]
  },
  {
   "cell_type": "code",
   "execution_count": null,
   "id": "dccff39c",
   "metadata": {},
   "outputs": [],
   "source": [
    "# Se python è installato a livello di sistema\n",
    "# virtualenv --python=python3.10\n",
    "\n",
    "# Se python non è installato a livello di sistema\n",
    "# virtualenv --python=C:\\Users\\gfgul\\AppData\\Local\\Programs\\Python\\Python310"
   ]
  },
  {
   "cell_type": "markdown",
   "id": "52a06f3e",
   "metadata": {},
   "source": [
    "#### virtualenv con jupyter notebook"
   ]
  },
  {
   "cell_type": "code",
   "execution_count": null,
   "id": "1f220334",
   "metadata": {},
   "outputs": [],
   "source": [
    "# installare il kernel ipython\n",
    "# pip install ipykernel\n",
    "\n",
    "# creare il kernel ipython\n",
    "# python -m ipykernel install --user --name=myenv"
   ]
  },
  {
   "cell_type": "markdown",
   "id": "399ad0e5",
   "metadata": {},
   "source": [
    "<img src=\"https://github.com/ProfAI/programmazione-con-python/blob/main/13%20-%20Ambienti%20virtuali/risorse/jupyter.jpg?raw=true\" width=500/>"
   ]
  },
  {
   "cell_type": "code",
   "execution_count": 3,
   "id": "a4135932",
   "metadata": {},
   "outputs": [
    {
     "data": {
      "text/plain": [
       "<Norris: Jack Bauer tried to use his detailed knowledge of torture techniques, but to no avail: Chuck Norris thrives on pain. Chuck Norris then ripped off Jack Bauer's arm and beat him to death with it. Game, set, match.>"
      ]
     },
     "execution_count": 3,
     "metadata": {},
     "output_type": "execute_result"
    }
   ],
   "source": [
    "from chuck import ChuckNorris\n",
    "cn = ChuckNorris()\n",
    "cn.random()"
   ]
  },
  {
   "cell_type": "markdown",
   "id": "3d9065b9",
   "metadata": {},
   "source": [
    "#### disinstallare il kernel"
   ]
  },
  {
   "cell_type": "code",
   "execution_count": 5,
   "id": "eb068946",
   "metadata": {},
   "outputs": [],
   "source": [
    "# jupyter kernelspec uninstall venvtest"
   ]
  },
  {
   "cell_type": "markdown",
   "id": "d8937b12",
   "metadata": {},
   "source": [
    "#### rimuovere l'ambiente virtuale\n",
    "Basta cancellare la cartella dell'ambiente virtuale generata da virtualenv"
   ]
  }
 ],
 "metadata": {
  "kernelspec": {
   "display_name": "venvtest",
   "language": "python",
   "name": "venvtest"
  },
  "language_info": {
   "codemirror_mode": {
    "name": "ipython",
    "version": 3
   },
   "file_extension": ".py",
   "mimetype": "text/x-python",
   "name": "python",
   "nbconvert_exporter": "python",
   "pygments_lexer": "ipython3",
   "version": "3.8.8"
  }
 },
 "nbformat": 4,
 "nbformat_minor": 5
}
