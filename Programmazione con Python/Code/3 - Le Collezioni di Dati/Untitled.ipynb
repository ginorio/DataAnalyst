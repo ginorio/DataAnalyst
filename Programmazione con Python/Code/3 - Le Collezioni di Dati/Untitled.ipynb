{
 "cells": [
  {
   "cell_type": "markdown",
   "id": "fb1adcd8",
   "metadata": {},
   "source": [
    "## Le Liste"
   ]
  },
  {
   "cell_type": "code",
   "execution_count": null,
   "id": "695cad76",
   "metadata": {},
   "outputs": [],
   "source": [
    "l = [1, 2, 3, 5, 8, 13, 21]\n",
    "print(type(l))"
   ]
  },
  {
   "cell_type": "code",
   "execution_count": null,
   "id": "eb9a8ee4",
   "metadata": {},
   "outputs": [],
   "source": [
    "l"
   ]
  },
  {
   "cell_type": "code",
   "execution_count": null,
   "id": "ac3e3cfa",
   "metadata": {},
   "outputs": [],
   "source": [
    "word_list = [\"cane\",\"gatto\",\"topo\"]\n",
    "word_list"
   ]
  },
  {
   "cell_type": "code",
   "execution_count": null,
   "id": "c556f1ce",
   "metadata": {},
   "outputs": [],
   "source": [
    "weird_list = [0, \"patate\", True]\n",
    "weird_list"
   ]
  },
  {
   "cell_type": "markdown",
   "id": "240bace6",
   "metadata": {},
   "source": [
    "### Indexing"
   ]
  },
  {
   "cell_type": "code",
   "execution_count": null,
   "id": "bd36b6c1",
   "metadata": {},
   "outputs": [],
   "source": [
    "l = [1, 2, 3, 5, 8, 13, 21]"
   ]
  },
  {
   "cell_type": "code",
   "execution_count": null,
   "id": "8cf2b7dd",
   "metadata": {},
   "outputs": [],
   "source": [
    "l[0]"
   ]
  },
  {
   "cell_type": "code",
   "execution_count": null,
   "id": "1af821ed",
   "metadata": {},
   "outputs": [],
   "source": [
    "l[1]"
   ]
  },
  {
   "cell_type": "code",
   "execution_count": null,
   "id": "93e302f6",
   "metadata": {},
   "outputs": [],
   "source": [
    "l[4]"
   ]
  },
  {
   "cell_type": "code",
   "execution_count": null,
   "id": "6a58c0a9",
   "metadata": {},
   "outputs": [],
   "source": [
    "l[-1]"
   ]
  },
  {
   "cell_type": "code",
   "execution_count": null,
   "id": "65969afb",
   "metadata": {},
   "outputs": [],
   "source": [
    "l[-3]"
   ]
  },
  {
   "cell_type": "code",
   "execution_count": null,
   "id": "82bd40de",
   "metadata": {},
   "outputs": [],
   "source": [
    "type(l[-3])"
   ]
  },
  {
   "cell_type": "markdown",
   "id": "3b94a049",
   "metadata": {},
   "source": [
    "### Slicing"
   ]
  },
  {
   "cell_type": "code",
   "execution_count": null,
   "id": "20e57916",
   "metadata": {},
   "outputs": [],
   "source": [
    "type(l[4:6])"
   ]
  },
  {
   "cell_type": "code",
   "execution_count": null,
   "id": "2285bcc8",
   "metadata": {},
   "outputs": [],
   "source": [
    "l[:3]"
   ]
  },
  {
   "cell_type": "code",
   "execution_count": null,
   "id": "0e43ed02",
   "metadata": {},
   "outputs": [],
   "source": [
    "l[:]"
   ]
  },
  {
   "cell_type": "code",
   "execution_count": null,
   "id": "c4fd7cda",
   "metadata": {},
   "outputs": [],
   "source": [
    "l[-2:]"
   ]
  },
  {
   "cell_type": "code",
   "execution_count": null,
   "id": "021b6c3f",
   "metadata": {},
   "outputs": [],
   "source": [
    "l[::-1]"
   ]
  },
  {
   "cell_type": "code",
   "execution_count": null,
   "id": "a9a0acbe",
   "metadata": {},
   "outputs": [],
   "source": [
    "l[:3:-1]"
   ]
  },
  {
   "cell_type": "code",
   "execution_count": null,
   "id": "b08b3bdd",
   "metadata": {},
   "outputs": [],
   "source": []
  },
  {
   "cell_type": "markdown",
   "id": "a0af911d",
   "metadata": {},
   "source": [
    "## Modifica e verifica"
   ]
  },
  {
   "cell_type": "code",
   "execution_count": null,
   "id": "b4d2af23",
   "metadata": {},
   "outputs": [],
   "source": [
    "l = [1, 2, 3, 5, 8, 13, 21]"
   ]
  },
  {
   "cell_type": "code",
   "execution_count": null,
   "id": "dd202489",
   "metadata": {},
   "outputs": [],
   "source": [
    "l[4] = 10"
   ]
  },
  {
   "cell_type": "code",
   "execution_count": null,
   "id": "8504a1a1",
   "metadata": {},
   "outputs": [],
   "source": [
    "l"
   ]
  },
  {
   "cell_type": "code",
   "execution_count": null,
   "id": "7e6a5f82",
   "metadata": {},
   "outputs": [],
   "source": [
    "l[:2] = [90, 100]"
   ]
  },
  {
   "cell_type": "code",
   "execution_count": null,
   "id": "b902ae75",
   "metadata": {},
   "outputs": [],
   "source": [
    "l"
   ]
  },
  {
   "cell_type": "code",
   "execution_count": null,
   "id": "9fb4c562",
   "metadata": {},
   "outputs": [],
   "source": [
    "subjects = [\"storia\",\"geografia\",\"matematica\"]"
   ]
  },
  {
   "cell_type": "code",
   "execution_count": null,
   "id": "ed99d8d8",
   "metadata": {},
   "outputs": [],
   "source": [
    "subjects.append(\"fisica\")\n",
    "subjects"
   ]
  },
  {
   "cell_type": "code",
   "execution_count": null,
   "id": "2869c0ab",
   "metadata": {},
   "outputs": [],
   "source": [
    "subjects.insert(2, \"biologia\")\n",
    "subjects"
   ]
  },
  {
   "cell_type": "code",
   "execution_count": null,
   "id": "68463f1f",
   "metadata": {},
   "outputs": [],
   "source": [
    "subjects.remove(\"geografia\")\n",
    "subjects"
   ]
  },
  {
   "cell_type": "code",
   "execution_count": null,
   "id": "d355d790",
   "metadata": {},
   "outputs": [],
   "source": [
    "subject = subjects.pop(0)\n",
    "print(subject, subjects)"
   ]
  },
  {
   "cell_type": "code",
   "execution_count": null,
   "id": "b8ccff09",
   "metadata": {},
   "outputs": [],
   "source": [
    "\"filosofia\" in subjects"
   ]
  },
  {
   "cell_type": "code",
   "execution_count": null,
   "id": "cc7434f2",
   "metadata": {},
   "outputs": [],
   "source": [
    "\"matematica\" in subjects"
   ]
  },
  {
   "cell_type": "code",
   "execution_count": null,
   "id": "5ffdcbf8",
   "metadata": {},
   "outputs": [],
   "source": [
    "subjects.index(\"matematica\")"
   ]
  },
  {
   "cell_type": "code",
   "execution_count": null,
   "id": "0d9e0ff0",
   "metadata": {},
   "outputs": [],
   "source": [
    "subjects.index(\"filosofia\")"
   ]
  },
  {
   "cell_type": "code",
   "execution_count": null,
   "id": "42ae124e",
   "metadata": {},
   "outputs": [],
   "source": [
    "subjects.append(\"biologia\")"
   ]
  },
  {
   "cell_type": "code",
   "execution_count": null,
   "id": "9e8afe71",
   "metadata": {},
   "outputs": [],
   "source": [
    "subjects.index(\"biologia\")"
   ]
  },
  {
   "cell_type": "code",
   "execution_count": null,
   "id": "2ac50c84",
   "metadata": {},
   "outputs": [],
   "source": [
    "subjects.count(\"biologia\")"
   ]
  },
  {
   "cell_type": "code",
   "execution_count": null,
   "id": "94f25985",
   "metadata": {},
   "outputs": [],
   "source": [
    "subjects.count(\"filosofia\")"
   ]
  },
  {
   "cell_type": "code",
   "execution_count": null,
   "id": "0519ef09",
   "metadata": {},
   "outputs": [],
   "source": []
  },
  {
   "cell_type": "code",
   "execution_count": null,
   "id": "69682d49",
   "metadata": {},
   "outputs": [],
   "source": []
  },
  {
   "cell_type": "code",
   "execution_count": null,
   "id": "06e7172c",
   "metadata": {},
   "outputs": [],
   "source": []
  },
  {
   "cell_type": "markdown",
   "id": "a0edb730",
   "metadata": {},
   "source": [
    "### Liste annidate"
   ]
  },
  {
   "cell_type": "code",
   "execution_count": null,
   "id": "a522e945",
   "metadata": {},
   "outputs": [],
   "source": [
    "subjects_week = [\n",
    "                [\"Italiano\", \"Storia\", \"Matematica\", \"Matematica\", \"Geografia\", \"Filosofia\"], # orario di lunedì\n",
    "                 [\"Latino\", \"Latino\", \"Matematica\", \"Italiano\", \"Italiano\", \"Educazione Fisica\"], # orario di marted'\n",
    "                [\"Italiano\", \"Inglese\", \"Matematica\", \"Filosofia\", \"Filosofia\", \"Latino\"], # orario di mercoledì\n",
    "                 [\"Filosofia\", \"Italiano\", \"Matematica\", \"Matematica\", \"Inglese\", \"Chimica\"], # orario di giovedì\n",
    "                 [\"Educazione Fisica\", \"Filosofia\", \"Latino\", \"Latino\", \"Storia\", \"Italiano\"] # orario di venerdì\n",
    "                ] # sabato vacanza perché mi sono scocciato a scrivere materie "
   ]
  },
  {
   "cell_type": "code",
   "execution_count": null,
   "id": "563006cb",
   "metadata": {},
   "outputs": [],
   "source": [
    "subjects_week"
   ]
  },
  {
   "cell_type": "code",
   "execution_count": null,
   "id": "7f5e5d82",
   "metadata": {},
   "outputs": [],
   "source": [
    "subjects_week[2]"
   ]
  },
  {
   "cell_type": "code",
   "execution_count": null,
   "id": "dbd38833",
   "metadata": {},
   "outputs": [],
   "source": [
    "type(subjects_week[2])"
   ]
  },
  {
   "cell_type": "code",
   "execution_count": null,
   "id": "c3110f19",
   "metadata": {},
   "outputs": [],
   "source": [
    "subjects_week[2][3]"
   ]
  },
  {
   "cell_type": "code",
   "execution_count": null,
   "id": "9031cd71",
   "metadata": {},
   "outputs": [],
   "source": []
  },
  {
   "cell_type": "code",
   "execution_count": null,
   "id": "81402c74",
   "metadata": {},
   "outputs": [],
   "source": []
  },
  {
   "cell_type": "code",
   "execution_count": null,
   "id": "4ac7492e",
   "metadata": {},
   "outputs": [],
   "source": []
  },
  {
   "cell_type": "markdown",
   "id": "b26b134f",
   "metadata": {},
   "source": [
    "### Le Tuple"
   ]
  },
  {
   "cell_type": "code",
   "execution_count": null,
   "id": "40e84b54",
   "metadata": {},
   "outputs": [],
   "source": [
    "t = (1, 3, 5, 8, 13, 21)\n",
    "print(type(t), t)"
   ]
  },
  {
   "cell_type": "code",
   "execution_count": null,
   "id": "4601aa4e",
   "metadata": {},
   "outputs": [],
   "source": [
    "t[2]"
   ]
  },
  {
   "cell_type": "code",
   "execution_count": null,
   "id": "52e59c1c",
   "metadata": {},
   "outputs": [],
   "source": [
    "t[:3]"
   ]
  },
  {
   "cell_type": "code",
   "execution_count": null,
   "id": "e4b9ce64",
   "metadata": {},
   "outputs": [],
   "source": [
    "t[3] = 10"
   ]
  },
  {
   "cell_type": "code",
   "execution_count": null,
   "id": "e7cc8704",
   "metadata": {},
   "outputs": [],
   "source": [
    "t[:3] = (2, 6, 10)"
   ]
  },
  {
   "cell_type": "code",
   "execution_count": null,
   "id": "af4252e8",
   "metadata": {},
   "outputs": [],
   "source": [
    "t = (\"Giuseppe\", 30, True)\n",
    "t"
   ]
  },
  {
   "cell_type": "code",
   "execution_count": null,
   "id": "e64fccee",
   "metadata": {},
   "outputs": [],
   "source": [
    "subjects_vote = [(\"italiano\", 7), (\"greco\",4), (\"matematica\", 10)]\n",
    "type(subjects_vote)"
   ]
  },
  {
   "cell_type": "code",
   "execution_count": null,
   "id": "fad35189",
   "metadata": {},
   "outputs": [],
   "source": [
    "subjects_vote.append((\"inglese\", 6))"
   ]
  },
  {
   "cell_type": "code",
   "execution_count": null,
   "id": "8b66d62a",
   "metadata": {},
   "outputs": [],
   "source": [
    "subjects_vote"
   ]
  },
  {
   "cell_type": "code",
   "execution_count": null,
   "id": "d330084c",
   "metadata": {},
   "outputs": [],
   "source": [
    "t = (1, 3, 5, 8, 13, 21)\n",
    "t.append(34)"
   ]
  },
  {
   "cell_type": "code",
   "execution_count": null,
   "id": "f7483731",
   "metadata": {},
   "outputs": [],
   "source": [
    "t.count(5)"
   ]
  },
  {
   "cell_type": "code",
   "execution_count": null,
   "id": "1b60b855",
   "metadata": {},
   "outputs": [],
   "source": [
    "t.index(5)"
   ]
  },
  {
   "cell_type": "code",
   "execution_count": null,
   "id": "4766c75b",
   "metadata": {},
   "outputs": [],
   "source": [
    "5 in t"
   ]
  },
  {
   "cell_type": "code",
   "execution_count": null,
   "id": "4401c84d",
   "metadata": {},
   "outputs": [],
   "source": [
    "10 in t"
   ]
  },
  {
   "cell_type": "code",
   "execution_count": null,
   "id": "0dd0d25c",
   "metadata": {},
   "outputs": [],
   "source": [
    "s = \"Ciao mondo\"\n",
    "s"
   ]
  },
  {
   "cell_type": "code",
   "execution_count": null,
   "id": "95e312e9",
   "metadata": {},
   "outputs": [],
   "source": [
    "s[0]"
   ]
  },
  {
   "cell_type": "code",
   "execution_count": null,
   "id": "0a250723",
   "metadata": {},
   "outputs": [],
   "source": [
    "s[0] = \"M\""
   ]
  },
  {
   "cell_type": "code",
   "execution_count": null,
   "id": "6b109c23",
   "metadata": {},
   "outputs": [],
   "source": []
  },
  {
   "cell_type": "code",
   "execution_count": null,
   "id": "dbb4ca5f",
   "metadata": {},
   "outputs": [],
   "source": []
  },
  {
   "cell_type": "code",
   "execution_count": null,
   "id": "e7570fcd",
   "metadata": {},
   "outputs": [],
   "source": []
  },
  {
   "cell_type": "markdown",
   "id": "6d70dab2",
   "metadata": {},
   "source": [
    "### Set"
   ]
  },
  {
   "cell_type": "code",
   "execution_count": null,
   "id": "9fdb6599",
   "metadata": {},
   "outputs": [],
   "source": [
    "s = {30, 15, 20, 30, 5, 90, 15}\n",
    "type(s)"
   ]
  },
  {
   "cell_type": "code",
   "execution_count": null,
   "id": "f60eada3",
   "metadata": {},
   "outputs": [],
   "source": [
    "s"
   ]
  },
  {
   "cell_type": "code",
   "execution_count": null,
   "id": "e941ead9",
   "metadata": {},
   "outputs": [],
   "source": [
    "subjects_set = {\"italiano\", \"storia\", \"matematica\",\n",
    "                \"matematica\", \"geografia\", \"filosofia\"}\n",
    "\n",
    "subjects_set"
   ]
  },
  {
   "cell_type": "code",
   "execution_count": null,
   "id": "c759b5f0",
   "metadata": {},
   "outputs": [],
   "source": [
    "subjects_set[0]"
   ]
  },
  {
   "cell_type": "code",
   "execution_count": null,
   "id": "9719cc5a",
   "metadata": {},
   "outputs": [],
   "source": [
    "subject = subjects_set.pop()\n",
    "print(subject, subjects_set)"
   ]
  },
  {
   "cell_type": "code",
   "execution_count": null,
   "id": "11b21ddc",
   "metadata": {},
   "outputs": [],
   "source": [
    "subjects_set.add(\"chimica\")\n",
    "subjects_set"
   ]
  },
  {
   "cell_type": "code",
   "execution_count": null,
   "id": "96cff091",
   "metadata": {},
   "outputs": [],
   "source": [
    "subjects_set.add(\"storia\")\n",
    "subjects_set"
   ]
  },
  {
   "cell_type": "code",
   "execution_count": null,
   "id": "4b359d3b",
   "metadata": {},
   "outputs": [],
   "source": [
    "subjects_set.remove(\"geografia\")\n",
    "subjects_set"
   ]
  },
  {
   "cell_type": "code",
   "execution_count": null,
   "id": "da0e8216",
   "metadata": {},
   "outputs": [],
   "source": [
    "subjects_set.remove(\"arte\")"
   ]
  },
  {
   "cell_type": "code",
   "execution_count": null,
   "id": "e0bababd",
   "metadata": {},
   "outputs": [],
   "source": [
    "subjects_set.discard(\"arte\")"
   ]
  },
  {
   "cell_type": "code",
   "execution_count": null,
   "id": "0899f1f3",
   "metadata": {},
   "outputs": [],
   "source": [
    "subjects_set.clear()\n",
    "subjects_set = {}"
   ]
  },
  {
   "cell_type": "code",
   "execution_count": null,
   "id": "13f6597d",
   "metadata": {},
   "outputs": [],
   "source": [
    "subjects_frozen = frozenset({\"italiano\", \"matematica\", \"inglese\"})\n",
    "print(type(subjects_frozen), subjects_frozen)"
   ]
  },
  {
   "cell_type": "code",
   "execution_count": null,
   "id": "ff6d103c",
   "metadata": {},
   "outputs": [],
   "source": [
    "subjects_frozen.add(\"storia\")"
   ]
  },
  {
   "cell_type": "code",
   "execution_count": null,
   "id": "bef32859",
   "metadata": {},
   "outputs": [],
   "source": []
  },
  {
   "cell_type": "code",
   "execution_count": null,
   "id": "e0610cac",
   "metadata": {},
   "outputs": [],
   "source": []
  },
  {
   "cell_type": "code",
   "execution_count": null,
   "id": "a96f2810",
   "metadata": {},
   "outputs": [],
   "source": []
  },
  {
   "cell_type": "code",
   "execution_count": null,
   "id": "e383bcd6",
   "metadata": {},
   "outputs": [],
   "source": []
  },
  {
   "cell_type": "markdown",
   "id": "35396f6d",
   "metadata": {},
   "source": [
    "### I Dizionari"
   ]
  },
  {
   "cell_type": "code",
   "execution_count": null,
   "id": "adab6219",
   "metadata": {},
   "outputs": [],
   "source": [
    "report = {\"italiano\":7, \"latino\":6, \"filosofia\":4, \"matematica\":9}\n",
    "type(report)"
   ]
  },
  {
   "cell_type": "code",
   "execution_count": null,
   "id": "f3f88746",
   "metadata": {},
   "outputs": [],
   "source": [
    "report[\"latino\"]"
   ]
  },
  {
   "cell_type": "code",
   "execution_count": null,
   "id": "045dc450",
   "metadata": {},
   "outputs": [],
   "source": [
    "report[\"filosofia\"]"
   ]
  },
  {
   "cell_type": "code",
   "execution_count": null,
   "id": "6fea24f2",
   "metadata": {},
   "outputs": [],
   "source": [
    "report[\"latino\"] = 5"
   ]
  },
  {
   "cell_type": "code",
   "execution_count": null,
   "id": "c6c6c494",
   "metadata": {},
   "outputs": [],
   "source": [
    "report"
   ]
  },
  {
   "cell_type": "code",
   "execution_count": null,
   "id": "1a34599e",
   "metadata": {},
   "outputs": [],
   "source": [
    "report[\"storia\"] = 6"
   ]
  },
  {
   "cell_type": "code",
   "execution_count": null,
   "id": "67f9a99b",
   "metadata": {},
   "outputs": [],
   "source": [
    "report[\"inglese\"] = {\"grammatica\":7, \"letteratura\":6}"
   ]
  },
  {
   "cell_type": "code",
   "execution_count": null,
   "id": "3e676ba6",
   "metadata": {},
   "outputs": [],
   "source": [
    "report"
   ]
  },
  {
   "cell_type": "code",
   "execution_count": null,
   "id": "e44dbfe8",
   "metadata": {},
   "outputs": [],
   "source": [
    "list(report.values())"
   ]
  },
  {
   "cell_type": "code",
   "execution_count": null,
   "id": "b61940fb",
   "metadata": {},
   "outputs": [],
   "source": [
    "list(report.keys())"
   ]
  },
  {
   "cell_type": "code",
   "execution_count": null,
   "id": "43a76699",
   "metadata": {},
   "outputs": [],
   "source": []
  },
  {
   "cell_type": "code",
   "execution_count": null,
   "id": "be777404",
   "metadata": {},
   "outputs": [],
   "source": []
  },
  {
   "cell_type": "code",
   "execution_count": null,
   "id": "3191d996",
   "metadata": {},
   "outputs": [],
   "source": []
  },
  {
   "cell_type": "code",
   "execution_count": null,
   "id": "27fa8749",
   "metadata": {},
   "outputs": [],
   "source": []
  },
  {
   "cell_type": "markdown",
   "id": "16ffe97e",
   "metadata": {},
   "source": [
    "### Casting tra collezioni"
   ]
  },
  {
   "cell_type": "code",
   "execution_count": null,
   "id": "46dd3de8",
   "metadata": {},
   "outputs": [],
   "source": [
    "names_list = [\"Giuseppe\", \"Carlo\", \"Nicola\", \"Giuseppe\", \"Carlo\",\"Antonio\"]"
   ]
  },
  {
   "cell_type": "code",
   "execution_count": null,
   "id": "9a6a2f7c",
   "metadata": {},
   "outputs": [],
   "source": [
    "print(names_list)"
   ]
  },
  {
   "cell_type": "code",
   "execution_count": null,
   "id": "41cc2f14",
   "metadata": {},
   "outputs": [],
   "source": [
    "names_tuple = tuple(names_list)\n",
    "names_tuple"
   ]
  },
  {
   "cell_type": "code",
   "execution_count": null,
   "id": "82be3f4b",
   "metadata": {},
   "outputs": [],
   "source": [
    "names_tuple[0] = \"Federico\""
   ]
  },
  {
   "cell_type": "code",
   "execution_count": null,
   "id": "98bc52bd",
   "metadata": {},
   "outputs": [],
   "source": [
    "names_set = set(names_tuple)\n",
    "names_set"
   ]
  },
  {
   "cell_type": "code",
   "execution_count": null,
   "id": "ae1f8f43",
   "metadata": {},
   "outputs": [],
   "source": [
    "names_age = ((\"Giuseppe\", 30), (\"Antonio\", 27), (\"Nicola\", 24))"
   ]
  },
  {
   "cell_type": "code",
   "execution_count": null,
   "id": "d358d8b4",
   "metadata": {},
   "outputs": [],
   "source": [
    "people_dict = dict(names_age)\n",
    "people_dict"
   ]
  },
  {
   "cell_type": "code",
   "execution_count": null,
   "id": "df505a56",
   "metadata": {},
   "outputs": [],
   "source": [
    "names = [\"Giuseppe\", \"Antonio\", \"Nicola\"]\n",
    "ages = [30, 27, 24]\n",
    "\n",
    "names_age = zip(names, ages)\n",
    "people_dict = dict(names_age)\n",
    "people_dict"
   ]
  },
  {
   "cell_type": "code",
   "execution_count": null,
   "id": "f4efeb5e",
   "metadata": {},
   "outputs": [],
   "source": []
  },
  {
   "cell_type": "code",
   "execution_count": null,
   "id": "8d159780",
   "metadata": {},
   "outputs": [],
   "source": []
  },
  {
   "cell_type": "markdown",
   "id": "85440237",
   "metadata": {},
   "source": [
    "### Lunghezza di una collezione"
   ]
  },
  {
   "cell_type": "code",
   "execution_count": null,
   "id": "178e7025",
   "metadata": {},
   "outputs": [],
   "source": [
    "l = [1, 2, 3, 4, 5]\n",
    "l"
   ]
  },
  {
   "cell_type": "code",
   "execution_count": null,
   "id": "5e982bfd",
   "metadata": {},
   "outputs": [],
   "source": [
    "l_len = len(l)\n",
    "l_len"
   ]
  },
  {
   "cell_type": "code",
   "execution_count": null,
   "id": "d903e9b8",
   "metadata": {},
   "outputs": [],
   "source": [
    "t = (\"Giuseppe\", 1.75, 80.5)\n",
    "t"
   ]
  },
  {
   "cell_type": "code",
   "execution_count": null,
   "id": "97dffded",
   "metadata": {},
   "outputs": [],
   "source": [
    "len(t)"
   ]
  },
  {
   "cell_type": "code",
   "execution_count": null,
   "id": "b8c718ac",
   "metadata": {},
   "outputs": [],
   "source": [
    "s = {\"Giuseppe\", \"Francesco\", \"Antonio\", \"Marco\"}\n",
    "len(s)"
   ]
  },
  {
   "cell_type": "code",
   "execution_count": null,
   "id": "cb88c547",
   "metadata": {},
   "outputs": [],
   "source": [
    "d = {\"pasta\":1, \"uova\":5, \"panna\":1}\n",
    "len(d)"
   ]
  },
  {
   "cell_type": "code",
   "execution_count": null,
   "id": "611765f3",
   "metadata": {},
   "outputs": [],
   "source": [
    "d[\"cereali\"] = 2\n",
    "d"
   ]
  },
  {
   "cell_type": "code",
   "execution_count": null,
   "id": "09cf049e",
   "metadata": {},
   "outputs": [],
   "source": [
    "l = [1, 2, 3, 4, 5]\n",
    "l[5] = 6"
   ]
  },
  {
   "cell_type": "code",
   "execution_count": null,
   "id": "a003122c",
   "metadata": {},
   "outputs": [],
   "source": [
    "students = {\n",
    "    \"Giuseppe Gullo\":[(\"Matematica\", 9, 0), (\"Italiano\", 7, 3), (\"Inglese\", 7.5, 4), (\"Storia\", 7.5, 4), (\"Geografia\", 5, 7)],\n",
    "    \"Antonio Barbera\":[(\"Matematica\", 8, 1), (\"Italiano\", 6, 1), (\"Inglese\", 9.5, 0), (\"Storia\", 8, 2), (\"Geografia\", 8, 1)],\n",
    "    \"Nicola Spina\":[(\"Matematica\", 7.5, 2), (\"Italiano\", 6, 2), (\"Inglese\", 4, 3), (\"Storia\", 8.5, 2), (\"Geografia\", 8, 2)]\n",
    "}\n",
    "\n",
    "students[\"Albert Einstein\"] = [(\"Matematica\", 10, 0), (\"Italiano\", 10, 0), (\"Inglese\", 10, 0), (\"Storia\", 10, 0), (\"Geografia\", 10, 0)]\n",
    "\n",
    "students[\"Giuseppe Gullo\"].append((\"Fisica\", 9.5, 0))\n",
    "students[\"Antonio Barbera\"].append((\"Fisica\", 8, 1))\n",
    "students[\"Nicola Spina\"].append((\"Fisica\", 8, 3))\n",
    "students[\"Albert Einstein\"].append((\"Fisica\", 10, 0))\n",
    "\n",
    "print(students[\"Giuseppe Gullo\"][0])\n",
    "print(students[\"Nicola Spina\"][2])\n",
    "print(students[\"Antonio Barbera\"][-1][2])"
   ]
  },
  {
   "cell_type": "code",
   "execution_count": null,
   "id": "b79e7bf5",
   "metadata": {},
   "outputs": [],
   "source": []
  },
  {
   "cell_type": "code",
   "execution_count": null,
   "id": "6627eba4",
   "metadata": {},
   "outputs": [],
   "source": []
  },
  {
   "cell_type": "code",
   "execution_count": null,
   "id": "9e7790ad",
   "metadata": {},
   "outputs": [],
   "source": []
  },
  {
   "cell_type": "markdown",
   "id": "65343e39",
   "metadata": {},
   "source": [
    "## Copia vs Riferimento"
   ]
  },
  {
   "cell_type": "code",
   "execution_count": 9,
   "id": "ed6eac8a",
   "metadata": {},
   "outputs": [
    {
     "data": {
      "text/plain": [
       "['cane', 'tigre', 'topo']"
      ]
     },
     "execution_count": 9,
     "metadata": {},
     "output_type": "execute_result"
    }
   ],
   "source": [
    "l1 = [\"cane\", \"gatto\", \"topo\"]\n",
    "l2 = l1\n",
    "l2[1] = \"tigre\"\n",
    "l2"
   ]
  },
  {
   "cell_type": "code",
   "execution_count": 10,
   "id": "887bb984",
   "metadata": {},
   "outputs": [
    {
     "data": {
      "text/plain": [
       "['cane', 'gatto', 'topo']"
      ]
     },
     "execution_count": 10,
     "metadata": {},
     "output_type": "execute_result"
    }
   ],
   "source": [
    "l1"
   ]
  },
  {
   "cell_type": "code",
   "execution_count": 11,
   "id": "00bac76d",
   "metadata": {},
   "outputs": [
    {
     "data": {
      "text/plain": [
       "1744897792640"
      ]
     },
     "execution_count": 11,
     "metadata": {},
     "output_type": "execute_result"
    }
   ],
   "source": [
    "id(l1)"
   ]
  },
  {
   "cell_type": "code",
   "execution_count": 12,
   "id": "64414792",
   "metadata": {},
   "outputs": [
    {
     "data": {
      "text/plain": [
       "1744898020160"
      ]
     },
     "execution_count": 12,
     "metadata": {},
     "output_type": "execute_result"
    }
   ],
   "source": [
    "id(l2)"
   ]
  },
  {
   "cell_type": "code",
   "execution_count": null,
   "id": "536fe6b5",
   "metadata": {},
   "outputs": [],
   "source": []
  },
  {
   "cell_type": "code",
   "execution_count": null,
   "id": "55819939",
   "metadata": {},
   "outputs": [],
   "source": []
  },
  {
   "cell_type": "code",
   "execution_count": null,
   "id": "6863e3fc",
   "metadata": {},
   "outputs": [],
   "source": []
  },
  {
   "cell_type": "code",
   "execution_count": null,
   "id": "43559c8e",
   "metadata": {},
   "outputs": [],
   "source": []
  },
  {
   "cell_type": "code",
   "execution_count": null,
   "id": "721dd103",
   "metadata": {},
   "outputs": [],
   "source": []
  }
 ],
 "metadata": {
  "kernelspec": {
   "display_name": "Python 3",
   "language": "python",
   "name": "python3"
  },
  "language_info": {
   "codemirror_mode": {
    "name": "ipython",
    "version": 3
   },
   "file_extension": ".py",
   "mimetype": "text/x-python",
   "name": "python",
   "nbconvert_exporter": "python",
   "pygments_lexer": "ipython3",
   "version": "3.8.8"
  }
 },
 "nbformat": 4,
 "nbformat_minor": 5
}
