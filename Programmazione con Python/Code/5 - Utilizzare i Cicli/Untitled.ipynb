{
 "cells": [
  {
   "cell_type": "markdown",
   "id": "acef3a8b",
   "metadata": {},
   "source": [
    "## Il Ciclo while"
   ]
  },
  {
   "cell_type": "code",
   "execution_count": 13,
   "id": "168dd89d",
   "metadata": {},
   "outputs": [
    {
     "name": "stdout",
     "output_type": "stream",
     "text": [
      "Giuseppe: ciao\n",
      "Giuseppe: come stai\n",
      "Giuseppe: esci\n"
     ]
    }
   ],
   "source": [
    "msg = \"\"\n",
    "\n",
    "while msg!=\"esci\":\n",
    "    msg = input(\"Giuseppe: \")"
   ]
  },
  {
   "cell_type": "code",
   "execution_count": 15,
   "id": "56624f08",
   "metadata": {},
   "outputs": [
    {
     "name": "stdout",
     "output_type": "stream",
     "text": [
      "Fino a che numero vuoi contare? 10\n",
      "0 è pari\n",
      "1 è dispari\n",
      "2 è pari\n",
      "3 è dispari\n",
      "4 è pari\n",
      "5 è dispari\n",
      "6 è pari\n",
      "7 è dispari\n",
      "8 è pari\n",
      "9 è dispari\n",
      "10 è pari\n"
     ]
    }
   ],
   "source": [
    "n = int(input(\"Fino a che numero vuoi contare? \"))\n",
    "i = 0\n",
    "\n",
    "while i<=n:\n",
    "    if i%2:\n",
    "        print(f\"{i} è dispari\")\n",
    "    else:\n",
    "        print(f\"{i} è pari\")\n",
    "    i+=1"
   ]
  },
  {
   "cell_type": "code",
   "execution_count": 19,
   "id": "34dbc876",
   "metadata": {},
   "outputs": [
    {
     "name": "stdout",
     "output_type": "stream",
     "text": [
      "La mia lista della spesa\n",
      "1) tofu\n",
      "2) latte di soia\n",
      "3) riso basmati\n",
      "4) yogurt  greco\n"
     ]
    }
   ],
   "source": [
    "shopping_list = [\"tofu\", \"latte di soia\", \"riso basmati\", \"yogurt  greco\"]\n",
    "i = 0\n",
    "\n",
    "print(\"La mia lista della spesa\")\n",
    "\n",
    "while i<len(shopping_list):\n",
    "    print(f\"{i+1}) {shopping_list[i]}\")\n",
    "    i+=1"
   ]
  },
  {
   "cell_type": "code",
   "execution_count": null,
   "id": "695436a4",
   "metadata": {},
   "outputs": [],
   "source": []
  },
  {
   "cell_type": "code",
   "execution_count": null,
   "id": "b2fc5c22",
   "metadata": {},
   "outputs": [],
   "source": []
  },
  {
   "cell_type": "code",
   "execution_count": null,
   "id": "2adbce95",
   "metadata": {},
   "outputs": [],
   "source": []
  },
  {
   "cell_type": "markdown",
   "id": "943b32b0",
   "metadata": {},
   "source": [
    "## Ciclo for"
   ]
  },
  {
   "cell_type": "code",
   "execution_count": 7,
   "id": "00583ae3",
   "metadata": {},
   "outputs": [
    {
     "name": "stdout",
     "output_type": "stream",
     "text": [
      "La mia lista della spesa\n",
      "-tofu\n",
      "-latte di soia\n",
      "-riso basmati\n",
      "-yogurt greco\n"
     ]
    }
   ],
   "source": [
    "shopping_list = [\"tofu\", \"latte di soia\", \"riso basmati\", \"yogurt greco\"]\n",
    "\n",
    "print(\"La mia lista della spesa\")\n",
    "\n",
    "for item in shopping_list:\n",
    "    print(\"-\"+item)    "
   ]
  },
  {
   "cell_type": "code",
   "execution_count": 10,
   "id": "a8cb9859",
   "metadata": {},
   "outputs": [
    {
     "data": {
      "text/plain": [
       "[0, 1, 2, 3, 4, 5, 6, 7, 8, 9]"
      ]
     },
     "execution_count": 10,
     "metadata": {},
     "output_type": "execute_result"
    }
   ],
   "source": [
    "list(range(10))"
   ]
  },
  {
   "cell_type": "code",
   "execution_count": 13,
   "id": "fba8fa5d",
   "metadata": {},
   "outputs": [
    {
     "name": "stdout",
     "output_type": "stream",
     "text": [
      "Fino a che numero vuoi stampare? 10\n",
      "0 è pari\n",
      "1 è dispari\n",
      "2 è pari\n",
      "3 è dispari\n",
      "4 è pari\n",
      "5 è dispari\n",
      "6 è pari\n",
      "7 è dispari\n",
      "8 è pari\n",
      "9 è dispari\n",
      "10 è pari\n"
     ]
    }
   ],
   "source": [
    "n = int(input(\"Fino a che numero vuoi stampare? \"))\n",
    "\n",
    "for i in range(n+1):\n",
    "    print(\"%d è %s\" % (i, \"dispari\" if i%2 else \"pari\"))"
   ]
  },
  {
   "cell_type": "code",
   "execution_count": 16,
   "id": "6765c63f",
   "metadata": {},
   "outputs": [
    {
     "name": "stdout",
     "output_type": "stream",
     "text": [
      "La mia lista della spesa\n",
      "1 tofu\n",
      "2 latte di soia\n",
      "3 riso basmati\n",
      "4 yogurt greco\n"
     ]
    }
   ],
   "source": [
    "shopping_list = [\"tofu\", \"latte di soia\", \"riso basmati\", \"yogurt greco\"]\n",
    "\n",
    "print(\"La mia lista della spesa\")\n",
    "\n",
    "for i in range(len(shopping_list)):\n",
    "    print(f\"{i+1}) {shopping_list[i]}\")"
   ]
  },
  {
   "cell_type": "code",
   "execution_count": 18,
   "id": "d64345cb",
   "metadata": {},
   "outputs": [
    {
     "data": {
      "text/plain": [
       "[(0, 'tofu'), (1, 'latte di soia'), (2, 'riso basmati'), (3, 'yogurt greco')]"
      ]
     },
     "execution_count": 18,
     "metadata": {},
     "output_type": "execute_result"
    }
   ],
   "source": [
    "list(enumerate(shopping_list))"
   ]
  },
  {
   "cell_type": "code",
   "execution_count": 19,
   "id": "8e253143",
   "metadata": {},
   "outputs": [
    {
     "name": "stdout",
     "output_type": "stream",
     "text": [
      "La mia lista della spesa\n",
      "1) tofu\n",
      "2) latte di soia\n",
      "3) riso basmati\n",
      "4) yogurt greco\n"
     ]
    }
   ],
   "source": [
    "shopping_list = [\"tofu\", \"latte di soia\", \"riso basmati\", \"yogurt greco\"]\n",
    "\n",
    "print(\"La mia lista della spesa\")\n",
    "\n",
    "for i, item in enumerate(shopping_list):\n",
    "    print(f\"{i+1}) {item}\")"
   ]
  },
  {
   "cell_type": "code",
   "execution_count": null,
   "id": "6d49bf06",
   "metadata": {},
   "outputs": [],
   "source": []
  },
  {
   "cell_type": "code",
   "execution_count": null,
   "id": "d6d33287",
   "metadata": {},
   "outputs": [],
   "source": []
  },
  {
   "cell_type": "markdown",
   "id": "50a4d4df",
   "metadata": {},
   "source": [
    "## break e continue"
   ]
  },
  {
   "cell_type": "code",
   "execution_count": 24,
   "id": "0139f8e2",
   "metadata": {},
   "outputs": [
    {
     "name": "stdout",
     "output_type": "stream",
     "text": [
      "La mia lista della spesa\n",
      "1) tofu\n",
      "2) riso basmati\n",
      "3) gelato di soia\n",
      "4) cerali integrali\n",
      "6) yogurt greco\n",
      "7) latte di soia\n",
      "Fine della lista\n"
     ]
    }
   ],
   "source": [
    "shopping_list = [\"tofu\", \"riso basmati\", \"gelato di soia\", \n",
    "                 \"cerali integrali\", \"muesli al cioccolato\", \n",
    "                 \"yogurt greco\", \"latte di soia\"]\n",
    "\n",
    "print(\"La mia lista della spesa\")\n",
    "\n",
    "for i, item in enumerate(shopping_list):\n",
    "    if \"cioccolato\" in item:\n",
    "        continue\n",
    "    print(f\"{i+1}) {item}\")\n",
    "    \n",
    "print(\"Fine della lista\")"
   ]
  },
  {
   "cell_type": "code",
   "execution_count": null,
   "id": "971ee7a0",
   "metadata": {},
   "outputs": [],
   "source": []
  },
  {
   "cell_type": "code",
   "execution_count": null,
   "id": "9bdbbf63",
   "metadata": {},
   "outputs": [],
   "source": []
  },
  {
   "cell_type": "code",
   "execution_count": null,
   "id": "d5dcbf4b",
   "metadata": {},
   "outputs": [],
   "source": []
  },
  {
   "cell_type": "code",
   "execution_count": null,
   "id": "7d571a76",
   "metadata": {},
   "outputs": [],
   "source": []
  },
  {
   "cell_type": "code",
   "execution_count": null,
   "id": "3ef76b45",
   "metadata": {},
   "outputs": [],
   "source": []
  },
  {
   "cell_type": "code",
   "execution_count": null,
   "id": "aa114e9a",
   "metadata": {},
   "outputs": [],
   "source": []
  }
 ],
 "metadata": {
  "kernelspec": {
   "display_name": "Python 3",
   "language": "python",
   "name": "python3"
  },
  "language_info": {
   "codemirror_mode": {
    "name": "ipython",
    "version": 3
   },
   "file_extension": ".py",
   "mimetype": "text/x-python",
   "name": "python",
   "nbconvert_exporter": "python",
   "pygments_lexer": "ipython3",
   "version": "3.8.8"
  }
 },
 "nbformat": 4,
 "nbformat_minor": 5
}
