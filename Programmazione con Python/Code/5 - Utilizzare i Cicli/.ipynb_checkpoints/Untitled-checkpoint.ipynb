{
 "cells": [
  {
   "cell_type": "markdown",
   "id": "02b313aa",
   "metadata": {},
   "source": []
  },
  {
   "cell_type": "code",
   "execution_count": null,
   "id": "060361b4",
   "metadata": {},
   "outputs": [],
   "source": [
    "1==1"
   ]
  },
  {
   "cell_type": "code",
   "execution_count": null,
   "id": "fee060f2",
   "metadata": {},
   "outputs": [],
   "source": [
    "3+2==6-1"
   ]
  },
  {
   "cell_type": "code",
   "execution_count": null,
   "id": "b7d8951a",
   "metadata": {},
   "outputs": [],
   "source": [
    "1!=1"
   ]
  },
  {
   "cell_type": "code",
   "execution_count": null,
   "id": "98865aed",
   "metadata": {},
   "outputs": [],
   "source": [
    "3*2-5==6*3-2*4"
   ]
  },
  {
   "cell_type": "code",
   "execution_count": null,
   "id": "3e12aa66",
   "metadata": {},
   "outputs": [],
   "source": [
    "5>6"
   ]
  },
  {
   "cell_type": "code",
   "execution_count": null,
   "id": "a5532b8b",
   "metadata": {},
   "outputs": [],
   "source": [
    "5<5"
   ]
  },
  {
   "cell_type": "code",
   "execution_count": null,
   "id": "dd933999",
   "metadata": {},
   "outputs": [],
   "source": [
    "5<=5"
   ]
  },
  {
   "cell_type": "code",
   "execution_count": null,
   "id": "9ded6079",
   "metadata": {},
   "outputs": [],
   "source": []
  },
  {
   "cell_type": "code",
   "execution_count": null,
   "id": "29a12b12",
   "metadata": {},
   "outputs": [],
   "source": [
    "\"gatto\"==\"Gatto\""
   ]
  },
  {
   "cell_type": "code",
   "execution_count": null,
   "id": "652353f0",
   "metadata": {},
   "outputs": [],
   "source": [
    "\"gatto\"!=\"cane\""
   ]
  },
  {
   "cell_type": "code",
   "execution_count": null,
   "id": "7a4f188f",
   "metadata": {},
   "outputs": [],
   "source": [
    "\"topo\"!=\"topo\""
   ]
  },
  {
   "cell_type": "markdown",
   "id": "5aff19c4",
   "metadata": {},
   "source": [
    "### Operatori **logici**\n",
    "in Python abbiamo i seguenti operatori logici:\n",
    " * **and**: ritorna True se entrambe le due condizioni sono True, altrimenti ritorna False\n",
    " * **or**: ritorna True se almeno una delle due condizioni è True, altrimenti ritorna False\n",
    " * **not**: esegue una negazione, se la condizione è True ritornerà False, se è False ritornerà True"
   ]
  },
  {
   "cell_type": "code",
   "execution_count": null,
   "id": "b7777fde",
   "metadata": {},
   "outputs": [],
   "source": [
    "1==2 or \"casa\"!=\"albergo\""
   ]
  },
  {
   "cell_type": "code",
   "execution_count": null,
   "id": "03f40112",
   "metadata": {},
   "outputs": [],
   "source": [
    "1==2 and \"casa\"!=\"albergo\""
   ]
  },
  {
   "cell_type": "code",
   "execution_count": null,
   "id": "715e82d5",
   "metadata": {},
   "outputs": [],
   "source": [
    "not (1==2 or \"casa\"!=\"albergo\")"
   ]
  },
  {
   "cell_type": "code",
   "execution_count": null,
   "id": "b187d868",
   "metadata": {},
   "outputs": [],
   "source": []
  },
  {
   "cell_type": "code",
   "execution_count": null,
   "id": "82f4f7b8",
   "metadata": {},
   "outputs": [],
   "source": []
  },
  {
   "cell_type": "markdown",
   "id": "463ea197",
   "metadata": {},
   "source": [
    "## Lo Statement IF"
   ]
  },
  {
   "cell_type": "code",
   "execution_count": null,
   "id": "d29dd522",
   "metadata": {},
   "outputs": [],
   "source": [
    "if True:\n",
    "    print(\"Questo testo viene stampato\")"
   ]
  },
  {
   "cell_type": "code",
   "execution_count": null,
   "id": "a3340184",
   "metadata": {},
   "outputs": [],
   "source": [
    "if False:\n",
    "    print(\"Questo testo non viene stampato\")"
   ]
  },
  {
   "cell_type": "code",
   "execution_count": null,
   "id": "c11a84ef",
   "metadata": {},
   "outputs": [],
   "source": [
    "PRINT = False\n",
    "\n",
    "if not PRINT:\n",
    "    print(\"Questo testo viene stampato\")"
   ]
  },
  {
   "cell_type": "code",
   "execution_count": null,
   "id": "38c601ff",
   "metadata": {},
   "outputs": [],
   "source": [
    "EMAIL = \"giuseppe@profession.ai\"\n",
    "PASSWORD = \"professionaispacca111\"\n",
    "\n",
    "email = input(\"Inserisci la tua email: \")\n",
    "password = input(\"Inserisci la tua password: \")\n",
    "\n",
    "if email==EMAIL:\n",
    "    if password==PASSWORD:\n",
    "        print(\"Hai 5 nuove email!\")\n",
    "    else:\n",
    "        print(\"La password non è corretta. Accesso negato!!!\")\n",
    "else:\n",
    "    print(\"Indirizzo email inesistente.\")"
   ]
  },
  {
   "cell_type": "code",
   "execution_count": null,
   "id": "9320d24f",
   "metadata": {},
   "outputs": [],
   "source": [
    "EMAIL = \"giuseppe@profession.ai\"\n",
    "PASSWORD = \"professionaispacca111\"\n",
    "\n",
    "email = input(\"Inserisci la tua email: \")\n",
    "password = input(\"Inserisci la tua password: \")\n",
    "\n",
    "if email==EMAIL and password==PASSWORD:\n",
    "    print(\"Hai 5 nuove email!\")\n",
    "else:\n",
    "    print(\"Credenziali invalide, accesso negato!!!\")"
   ]
  },
  {
   "cell_type": "code",
   "execution_count": null,
   "id": "86bd5e27",
   "metadata": {},
   "outputs": [],
   "source": [
    "n = int(input(\"Inserisci un numero: \"))\n",
    "\n",
    "if n%2==0 and n>=0:\n",
    "    print(f\"{n} è positivo e pari\")\n",
    "elif n%2==1 and n>=0:\n",
    "    print(f\"{n} è positivo e dispari\")\n",
    "elif n%2==0 and n<0:\n",
    "    print(f\"{n} è negativo e pari\")\n",
    "elif n%2==1 and n<0:\n",
    "    print(f\"{n} è negativo e dispari\")\n",
    "else:\n",
    "    print(\"Nessuna delle precedenti\")"
   ]
  },
  {
   "cell_type": "code",
   "execution_count": null,
   "id": "19a49187",
   "metadata": {},
   "outputs": [],
   "source": []
  },
  {
   "cell_type": "code",
   "execution_count": null,
   "id": "8efeaa16",
   "metadata": {},
   "outputs": [],
   "source": []
  },
  {
   "cell_type": "code",
   "execution_count": null,
   "id": "6caa3c3a",
   "metadata": {},
   "outputs": [],
   "source": []
  },
  {
   "cell_type": "markdown",
   "id": "c5af0364",
   "metadata": {},
   "source": [
    "### L'espressione IF"
   ]
  },
  {
   "cell_type": "code",
   "execution_count": 2,
   "id": "dfb9e03c",
   "metadata": {},
   "outputs": [
    {
     "name": "stdout",
     "output_type": "stream",
     "text": [
      "Inserisci un numero: 4\n",
      "4 è pari\n"
     ]
    }
   ],
   "source": [
    "n = int(input(\"Inserisci un numero: \"))\n",
    "\n",
    "if n%2:\n",
    "    print(f\"{n} è pari\")\n",
    "else:\n",
    "    print(f\"{n} è dispari\")"
   ]
  },
  {
   "cell_type": "code",
   "execution_count": 7,
   "id": "8e41ccb5",
   "metadata": {},
   "outputs": [
    {
     "name": "stdout",
     "output_type": "stream",
     "text": [
      "Inserisci un numero: 2\n",
      "2 è pari? True\n"
     ]
    }
   ],
   "source": [
    "n = int(input(\"Inserisci un numero: \"))\n",
    "\n",
    "is_even = n%2==0\n",
    "print(f\"{n} è pari? {is_even}\")"
   ]
  },
  {
   "cell_type": "code",
   "execution_count": 12,
   "id": "ccfed49e",
   "metadata": {},
   "outputs": [
    {
     "name": "stdout",
     "output_type": "stream",
     "text": [
      "Inserisci un numero: 3\n",
      "3 è dispari\n"
     ]
    }
   ],
   "source": [
    "n = int(input(\"Inserisci un numero: \"))\n",
    "print(f\"{n} è\", \"dispari\" if n%2 else \"pari\")"
   ]
  },
  {
   "cell_type": "code",
   "execution_count": null,
   "id": "bf413639",
   "metadata": {},
   "outputs": [],
   "source": []
  },
  {
   "cell_type": "code",
   "execution_count": null,
   "id": "fffa2cb0",
   "metadata": {},
   "outputs": [],
   "source": []
  },
  {
   "cell_type": "code",
   "execution_count": null,
   "id": "c7d16f18",
   "metadata": {},
   "outputs": [],
   "source": []
  },
  {
   "cell_type": "code",
   "execution_count": null,
   "id": "8e7ecf0f",
   "metadata": {},
   "outputs": [],
   "source": []
  }
 ],
 "metadata": {
  "kernelspec": {
   "display_name": "Python 3",
   "language": "python",
   "name": "python3"
  },
  "language_info": {
   "codemirror_mode": {
    "name": "ipython",
    "version": 3
   },
   "file_extension": ".py",
   "mimetype": "text/x-python",
   "name": "python",
   "nbconvert_exporter": "python",
   "pygments_lexer": "ipython3",
   "version": "3.8.8"
  }
 },
 "nbformat": 4,
 "nbformat_minor": 5
}
