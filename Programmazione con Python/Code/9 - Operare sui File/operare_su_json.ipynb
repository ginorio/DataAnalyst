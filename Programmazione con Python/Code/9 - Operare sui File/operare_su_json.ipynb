{
  "nbformat": 4,
  "nbformat_minor": 0,
  "metadata": {
    "colab": {
      "name": "operare_su_json.ipynb",
      "provenance": [],
      "collapsed_sections": [],
      "authorship_tag": "ABX9TyORtXWLlgnAL8VjLlmxD2LR",
      "include_colab_link": true
    },
    "kernelspec": {
      "name": "python3",
      "display_name": "Python 3"
    },
    "language_info": {
      "name": "python"
    }
  },
  "cells": [
    {
      "cell_type": "markdown",
      "metadata": {
        "id": "view-in-github",
        "colab_type": "text"
      },
      "source": [
        "<a href=\"https://colab.research.google.com/github/ProfAI/programmazione-con-python/blob/main/9%20-%20Operare%20sui%20File/operare_su_json.ipynb\" target=\"_parent\"><img src=\"https://colab.research.google.com/assets/colab-badge.svg\" alt=\"Open In Colab\"/></a>"
      ]
    },
    {
      "cell_type": "markdown",
      "metadata": {
        "id": "lEl2NjACeKo7"
      },
      "source": [
        "## Operare su file JSON"
      ]
    },
    {
      "cell_type": "code",
      "metadata": {
        "id": "SFDf3KV4ePd6"
      },
      "source": [
        "import json"
      ],
      "execution_count": 62,
      "outputs": []
    },
    {
      "cell_type": "code",
      "metadata": {
        "id": "dxRzUHvQWttB"
      },
      "source": [
        "inventory = {\n",
        "    \"abbigliamento\":{\n",
        "        \"magliette\":[\n",
        "            {\"taglia\":\"XL\", \"colore\":\"rosso\", \"prezzo\":14.99},\n",
        "            {\"taglia\":\"L\", \"colore\":\"blu\", \"prezzo\":16.99},\n",
        "            {\"taglia\":\"L\", \"colore\":\"bianco\", \"prezzo\":12.99}\n",
        "        ],\n",
        "        \"pantaloni\":[\n",
        "            {\"taglia\":46, \"colore\":\"nero\", \"prezzo\":24.99},\n",
        "            {\"taglia\":48, \"colore\":\"nero\", \"prezzo\":24.99},\n",
        "            {\"taglia\":50, \"colore\":\"bianco\", \"prezzo\":22.99}\n",
        "        ]\n",
        "    },\n",
        "    \"accessori\":{\n",
        "        \"borsa\":\n",
        "        [\n",
        "          {\"marca\":\"Alvaro Vitali\", \"prezzo\":79.99},\n",
        "          {\"marca\":\"Ingino Massini\", \"prezzo\":49.99},\n",
        "        ],\n",
        "        \"cinture\":[\n",
        "            {\"colore\":\"nero\", \"prezzo\":8.99},\n",
        "            {\"colore\":\"marrone\", \"prezzo\":8.99}\n",
        "        ]\n",
        "    }\n",
        "}"
      ],
      "execution_count": 58,
      "outputs": []
    },
    {
      "cell_type": "markdown",
      "metadata": {
        "id": "c4UDOju0eQ1V"
      },
      "source": [
        "## Lettura e scrittura da stringa"
      ]
    },
    {
      "cell_type": "code",
      "metadata": {
        "colab": {
          "base_uri": "https://localhost:8080/"
        },
        "id": "YJzjlUfqYsjV",
        "outputId": "d3a8e209-285b-4e4e-b7ff-93a4026e1f8d"
      },
      "source": [
        "\n",
        "inventory_str = json.dumps(inventory)\n",
        "print(type(inventory_str))\n",
        "print(inventory_str)"
      ],
      "execution_count": 39,
      "outputs": [
        {
          "output_type": "stream",
          "name": "stdout",
          "text": [
            "<class 'str'>\n",
            "{\"abbigliamento\": {\"magliette\": [{\"taglia\": \"XL\", \"colore\": \"rosso\", \"prezzo\": 14.99}, {\"taglia\": \"L\", \"colore\": \"blu\", \"prezzo\": 16.99}, {\"taglia\": \"L\", \"colore\": \"bianco\", \"prezzo\": 12.99}], \"pantaloni\": [{\"taglia\": 46, \"colore\": \"nero\", \"prezzo\": 24.99}, {\"taglia\": 48, \"colore\": \"nero\", \"prezzo\": 24.99}, {\"taglia\": 50, \"colore\": \"bianco\", \"prezzo\": 22.99}]}, \"accessori\": {\"borsa\": [{\"marca\": \"Alvaro Vitali\", \"prezzo\": 79.99}, {\"marca\": \"Ingino Massini\", \"prezzo\": 49.99}], \"cinture\": [{\"colore\": \"nero\", \"prezzo\": 8.99}, {\"colore\": \"marrone\", \"prezzo\": 8.99}]}}\n"
          ]
        }
      ]
    },
    {
      "cell_type": "code",
      "metadata": {
        "colab": {
          "base_uri": "https://localhost:8080/"
        },
        "id": "864YNaysZwu2",
        "outputId": "d8481706-591e-4e72-931b-d266c6197ea8"
      },
      "source": [
        "inventory = json.loads(inventory_str)\n",
        "print(type(inventory))\n",
        "print(inventory)"
      ],
      "execution_count": 40,
      "outputs": [
        {
          "output_type": "stream",
          "name": "stdout",
          "text": [
            "<class 'dict'>\n",
            "{'abbigliamento': {'magliette': [{'taglia': 'XL', 'colore': 'rosso', 'prezzo': 14.99}, {'taglia': 'L', 'colore': 'blu', 'prezzo': 16.99}, {'taglia': 'L', 'colore': 'bianco', 'prezzo': 12.99}], 'pantaloni': [{'taglia': 46, 'colore': 'nero', 'prezzo': 24.99}, {'taglia': 48, 'colore': 'nero', 'prezzo': 24.99}, {'taglia': 50, 'colore': 'bianco', 'prezzo': 22.99}]}, 'accessori': {'borsa': [{'marca': 'Alvaro Vitali', 'prezzo': 79.99}, {'marca': 'Ingino Massini', 'prezzo': 49.99}], 'cinture': [{'colore': 'nero', 'prezzo': 8.99}, {'colore': 'marrone', 'prezzo': 8.99}]}}\n"
          ]
        }
      ]
    },
    {
      "cell_type": "markdown",
      "metadata": {
        "id": "SWX_yFQLeVi-"
      },
      "source": [
        "## Lettura e scrittura da file"
      ]
    },
    {
      "cell_type": "code",
      "metadata": {
        "id": "_M7qjBqHZI_3"
      },
      "source": [
        "with open(\"inventory.json\", \"w\") as json_file:\n",
        "  json.dump(inventory, json_file, indent = 6)"
      ],
      "execution_count": 60,
      "outputs": []
    },
    {
      "cell_type": "code",
      "metadata": {
        "colab": {
          "base_uri": "https://localhost:8080/"
        },
        "id": "b2EgGF6oZdoP",
        "outputId": "548f62ba-337e-482e-e5be-7a69299ca67a"
      },
      "source": [
        "with open(\"inventory.json\") as json_file:\n",
        "  inventory = json.load(json_file)\n",
        "  print(type(inventory))\n",
        "  print(inventory)"
      ],
      "execution_count": 50,
      "outputs": [
        {
          "output_type": "stream",
          "name": "stdout",
          "text": [
            "<class 'dict'>\n",
            "{'abbigliamento': {'magliette': [{'taglia': 'XL', 'colore': 'rosso', 'prezzo': 14.99}, {'taglia': 'L', 'colore': 'blu', 'prezzo': 16.99}, {'taglia': 'L', 'colore': 'bianco', 'prezzo': 12.99}], 'pantaloni': [{'taglia': 46, 'colore': 'nero', 'prezzo': 24.99}, {'taglia': 48, 'colore': 'nero', 'prezzo': 24.99}, {'taglia': 50, 'colore': 'bianco', 'prezzo': 22.99}]}, 'accessori': {'borsa': [{'marca': 'Alvaro Vitali', 'prezzo': 79.99}, {'marca': 'Ingino Massini', 'prezzo': 49.99}, {'marca': 'Carmelino Panettiere', 'prezzo': 149.99}], 'cinture': [{'colore': 'nero', 'prezzo': 8.99}, {'colore': 'marrone', 'prezzo': 8.99}]}, 'gift card': [10, 50, 100]}\n"
          ]
        }
      ]
    },
    {
      "cell_type": "code",
      "metadata": {
        "id": "4x_xnZOWaDML"
      },
      "source": [
        "with open(\"inventory.json\", \"r+\") as json_file:\n",
        "  inventory = json.load(json_file)\n",
        "  inventory[\"accessori\"][\"borsa\"].append({\"marca\":\"Carmelino Panettiere\", \"prezzo\":149.99})\n",
        "  inventory[\"gift card\"] = [10, 50 ,100]\n",
        "  json_file.seek(0)\n",
        "  json.dump(inventory, json_file, indent = 6)"
      ],
      "execution_count": 61,
      "outputs": []
    }
  ]
}