{
  "nbformat": 4,
  "nbformat_minor": 0,
  "metadata": {
    "colab": {
      "name": "operare_su_csv.ipynb",
      "provenance": [],
      "authorship_tag": "ABX9TyNoJwIPJWWTIhkveRsL8hfc",
      "include_colab_link": true
    },
    "kernelspec": {
      "name": "python3",
      "display_name": "Python 3"
    },
    "language_info": {
      "name": "python"
    }
  },
  "cells": [
    {
      "cell_type": "markdown",
      "metadata": {
        "id": "view-in-github",
        "colab_type": "text"
      },
      "source": [
        "<a href=\"https://colab.research.google.com/github/ProfAI/programmazione-con-python/blob/main/9%20-%20Operare%20sui%20File/operare_su_csv.ipynb\" target=\"_parent\"><img src=\"https://colab.research.google.com/assets/colab-badge.svg\" alt=\"Open In Colab\"/></a>"
      ]
    },
    {
      "cell_type": "markdown",
      "metadata": {
        "id": "ccRqasPTLI_y"
      },
      "source": [
        "## Operare su file CSV\n",
        "Il modulo CSV permette di operare su file csv in Python. Possiamo aprire un file csv passando il file alla classe DictReader.\n",
        "\n"
      ]
    },
    {
      "cell_type": "code",
      "metadata": {
        "colab": {
          "base_uri": "https://localhost:8080/"
        },
        "id": "3n-rJwQ9K_dq",
        "outputId": "6bc91a5f-7ec1-4408-93ad-03864ab220fc"
      },
      "source": [
        "!wget https://raw.githubusercontent.com/ProfAI/programmazione-con-python/main/9%20-%20Operare%20sui%20File/shirts.csv"
      ],
      "execution_count": 23,
      "outputs": [
        {
          "output_type": "stream",
          "name": "stdout",
          "text": [
            "--2021-11-18 18:27:39--  https://raw.githubusercontent.com/ProfAI/programmazione-con-python/main/9%20-%20Operare%20sui%20File/shirts.csv\n",
            "Resolving raw.githubusercontent.com (raw.githubusercontent.com)... 185.199.109.133, 185.199.108.133, 185.199.110.133, ...\n",
            "Connecting to raw.githubusercontent.com (raw.githubusercontent.com)|185.199.109.133|:443... connected.\n",
            "HTTP request sent, awaiting response... 200 OK\n",
            "Length: 1840 (1.8K) [text/plain]\n",
            "Saving to: ‘shirts.csv’\n",
            "\n",
            "shirts.csv          100%[===================>]   1.80K  --.-KB/s    in 0s      \n",
            "\n",
            "2021-11-18 18:27:40 (13.9 MB/s) - ‘shirts.csv’ saved [1840/1840]\n",
            "\n"
          ]
        }
      ]
    },
    {
      "cell_type": "code",
      "metadata": {
        "colab": {
          "base_uri": "https://localhost:8080/"
        },
        "id": "9poH1ZXkPboX",
        "outputId": "dcad592d-b48c-45c3-9310-d171328fb21c"
      },
      "source": [
        "import csv\n",
        "\n",
        "line_count = 0\n",
        "\n",
        "with open('shirts.csv') as csv_file:\n",
        "    \n",
        "    csv_reader = csv.reader(csv_file)\n",
        "    \n",
        "    for row in csv_reader:\n",
        "      if line_count==0:\n",
        "        print(\"Columns names:\",row)\n",
        "      else:\n",
        "        print(f\"Row {line_count}:\",row)\n",
        "\n",
        "      line_count+=1"
      ],
      "execution_count": 18,
      "outputs": [
        {
          "output_type": "stream",
          "name": "stdout",
          "text": [
            "Columns names: ['', 'taglia', 'colore', 'prezzo']\n",
            "Row 1: ['0', 'S', 'bianco', '4.99']\n",
            "Row 2: ['1', 'M', 'bianco', '19.99']\n",
            "Row 3: ['2', 'XL', 'bianco', '12.49']\n",
            "Row 4: ['3', 'XL', 'bianco', '14.99']\n",
            "Row 5: ['4', 'S', 'bianco', '14.99']\n",
            "Row 6: ['5', 'S', 'verde', '7.99']\n",
            "Row 7: ['6', 'M', 'verde', '4.99']\n",
            "Row 8: ['7', 'L', 'verde', '12.49']\n",
            "Row 9: ['8', 'XL', 'bianco', '12.49']\n",
            "Row 10: ['9', 'M', 'verde', '19.99']\n",
            "Row 11: ['10', 'L', 'bianco', '14.99']\n",
            "Row 12: ['11', 'XL', 'bianco', '19.99']\n",
            "Row 13: ['12', 'M', 'bianco', '4.99']\n",
            "Row 14: ['13', 'L', 'bianco', '7.99']\n",
            "Row 15: ['14', 'M', 'bianco', '14.99']\n",
            "Row 16: ['15', 'XL', 'rosso', '9.99']\n",
            "Row 17: ['16', 'S', 'rosso', '12.49']\n",
            "Row 18: ['17', 'L', 'bianco', '7.99']\n",
            "Row 19: ['18', 'XL', 'bianco', '4.99']\n",
            "Row 20: ['19', 'M', 'verde', '14.99']\n",
            "Row 21: ['20', 'S', 'verde', '14.99']\n",
            "Row 22: ['21', 'XL', 'bianco', '7.99']\n",
            "Row 23: ['22', 'S', 'verde', '9.99']\n",
            "Row 24: ['23', 'XL', 'bianco', '14.99']\n",
            "Row 25: ['24', 'S', 'rosso', '14.99']\n",
            "Row 26: ['25', 'XL', 'bianco', '9.99']\n",
            "Row 27: ['26', 'M', 'verde', '7.99']\n",
            "Row 28: ['27', 'XL', 'bianco', '4.99']\n",
            "Row 29: ['28', 'S', 'verde', '14.99']\n",
            "Row 30: ['29', 'L', 'bianco', '12.49']\n",
            "Row 31: ['30', 'M', 'rosso', '9.99']\n",
            "Row 32: ['31', 'L', 'verde', '9.99']\n",
            "Row 33: ['32', 'XL', 'rosso', '7.99']\n",
            "Row 34: ['33', 'M', 'bianco', '19.99']\n",
            "Row 35: ['34', 'L', 'verde', '12.49']\n",
            "Row 36: ['35', 'L', 'bianco', '12.49']\n",
            "Row 37: ['36', 'L', 'bianco', '9.99']\n",
            "Row 38: ['37', 'XL', 'bianco', '14.99']\n",
            "Row 39: ['38', 'L', 'verde', '14.99']\n",
            "Row 40: ['39', 'XL', 'verde', '9.99']\n",
            "Row 41: ['40', 'M', 'bianco', '14.99']\n",
            "Row 42: ['41', 'L', 'verde', '19.99']\n",
            "Row 43: ['42', 'XL', 'verde', '7.99']\n",
            "Row 44: ['43', 'M', 'verde', '19.99']\n",
            "Row 45: ['44', 'L', 'rosso', '19.99']\n",
            "Row 46: ['45', 'XL', 'bianco', '9.99']\n",
            "Row 47: ['46', 'M', 'rosso', '12.49']\n",
            "Row 48: ['47', 'S', 'bianco', '7.99']\n",
            "Row 49: ['48', 'S', 'rosso', '14.99']\n",
            "Row 50: ['49', 'S', 'verde', '12.49']\n",
            "Row 51: ['50', 'XL', 'bianco', '19.99']\n",
            "Row 52: ['51', 'S', 'verde', '14.99']\n",
            "Row 53: ['52', 'S', 'bianco', '19.99']\n",
            "Row 54: ['53', 'M', 'verde', '9.99']\n",
            "Row 55: ['54', 'L', 'verde', '4.99']\n",
            "Row 56: ['55', 'M', 'verde', '12.49']\n",
            "Row 57: ['56', 'L', 'bianco', '12.49']\n",
            "Row 58: ['57', 'S', 'verde', '7.99']\n",
            "Row 59: ['58', 'S', 'verde', '19.99']\n",
            "Row 60: ['59', 'L', 'bianco', '9.99']\n",
            "Row 61: ['60', 'XL', 'rosso', '14.99']\n",
            "Row 62: ['61', 'M', 'bianco', '12.49']\n",
            "Row 63: ['62', 'XL', 'bianco', '14.99']\n",
            "Row 64: ['63', 'L', 'bianco', '9.99']\n",
            "Row 65: ['64', 'XL', 'verde', '14.99']\n",
            "Row 66: ['65', 'L', 'bianco', '12.49']\n",
            "Row 67: ['66', 'XL', 'bianco', '4.99']\n",
            "Row 68: ['67', 'L', 'bianco', '14.99']\n",
            "Row 69: ['68', 'L', 'verde', '9.99']\n",
            "Row 70: ['69', 'S', 'rosso', '14.99']\n",
            "Row 71: ['70', 'S', 'rosso', '19.99']\n",
            "Row 72: ['71', 'XL', 'rosso', '14.99']\n",
            "Row 73: ['72', 'S', 'bianco', '9.99']\n",
            "Row 74: ['73', 'S', 'rosso', '14.99']\n",
            "Row 75: ['74', 'L', 'bianco', '9.99']\n",
            "Row 76: ['75', 'XL', 'bianco', '9.99']\n",
            "Row 77: ['76', 'L', 'verde', '19.99']\n",
            "Row 78: ['77', 'XL', 'bianco', '19.99']\n",
            "Row 79: ['78', 'M', 'bianco', '4.99']\n",
            "Row 80: ['79', 'M', 'bianco', '9.99']\n",
            "Row 81: ['80', 'S', 'bianco', '14.99']\n",
            "Row 82: ['81', 'L', 'bianco', '19.99']\n",
            "Row 83: ['82', 'S', 'verde', '7.99']\n",
            "Row 84: ['83', 'XL', 'verde', '9.99']\n",
            "Row 85: ['84', 'M', 'bianco', '12.49']\n",
            "Row 86: ['85', 'L', 'verde', '4.99']\n",
            "Row 87: ['86', 'M', 'bianco', '7.99']\n",
            "Row 88: ['87', 'M', 'rosso', '14.99']\n",
            "Row 89: ['88', 'S', 'rosso', '9.99']\n",
            "Row 90: ['89', 'M', 'verde', '4.99']\n",
            "Row 91: ['90', 'M', 'bianco', '12.49']\n",
            "Row 92: ['91', 'M', 'rosso', '14.99']\n",
            "Row 93: ['92', 'L', 'verde', '19.99']\n",
            "Row 94: ['93', 'M', 'rosso', '7.99']\n",
            "Row 95: ['94', 'S', 'verde', '4.99']\n",
            "Row 96: ['95', 'L', 'bianco', '9.99']\n",
            "Row 97: ['96', 'M', 'verde', '14.99']\n",
            "Row 98: ['97', 'S', 'rosso', '12.49']\n",
            "Row 99: ['98', 'L', 'rosso', '12.49']\n",
            "Row 100: ['99', 'S', 'rosso', '19.99']\n"
          ]
        }
      ]
    },
    {
      "cell_type": "markdown",
      "metadata": {
        "id": "iF04MyGqLVVg"
      },
      "source": [
        ""
      ]
    },
    {
      "cell_type": "code",
      "metadata": {
        "colab": {
          "base_uri": "https://localhost:8080/"
        },
        "id": "iP67ymu7LYB4",
        "outputId": "2139c560-2c31-47eb-d1e7-c647cc68409c"
      },
      "source": [
        "import csv\n",
        "\n",
        "with open('shirts.csv') as csv_file:\n",
        "    csv_reader = csv.DictReader(csv_file)\n",
        "    print(csv_reader.fieldnames) # stampiamo i nomi delle colonne\n"
      ],
      "execution_count": 7,
      "outputs": [
        {
          "output_type": "stream",
          "name": "stdout",
          "text": [
            "['', 'taglia', 'colore', 'prezzo']\n"
          ]
        }
      ]
    },
    {
      "cell_type": "markdown",
      "metadata": {
        "id": "0k0PExG6Llei"
      },
      "source": [
        "Possiamo iterare sulle varie colonne del file, ogni colonna sarà un dizionario."
      ]
    },
    {
      "cell_type": "code",
      "metadata": {
        "colab": {
          "base_uri": "https://localhost:8080/"
        },
        "id": "1bjPKFFQLiT3",
        "outputId": "5852ab55-6aed-478f-e494-693603ea39cc"
      },
      "source": [
        "import csv\n",
        "\n",
        "with open('shirts.csv') as csv_file:\n",
        "    csv_reader = csv.DictReader(csv_file)\n",
        "    print(\"%s\\t%s\\t%s\\t\" % tuple(csv_reader.fieldnames[1:]))\n",
        "    for row in csv_reader:\n",
        "        print(\"%s\\t%s\\t%s\\t\" % (row['taglia'], row[\"colore\"], row[\"prezzo\"]))\n"
      ],
      "execution_count": 19,
      "outputs": [
        {
          "output_type": "stream",
          "name": "stdout",
          "text": [
            "taglia\tcolore\tprezzo\t\n",
            "S\tbianco\t4.99\t\n",
            "M\tbianco\t19.99\t\n",
            "XL\tbianco\t12.49\t\n",
            "XL\tbianco\t14.99\t\n",
            "S\tbianco\t14.99\t\n",
            "S\tverde\t7.99\t\n",
            "M\tverde\t4.99\t\n",
            "L\tverde\t12.49\t\n",
            "XL\tbianco\t12.49\t\n",
            "M\tverde\t19.99\t\n",
            "L\tbianco\t14.99\t\n",
            "XL\tbianco\t19.99\t\n",
            "M\tbianco\t4.99\t\n",
            "L\tbianco\t7.99\t\n",
            "M\tbianco\t14.99\t\n",
            "XL\trosso\t9.99\t\n",
            "S\trosso\t12.49\t\n",
            "L\tbianco\t7.99\t\n",
            "XL\tbianco\t4.99\t\n",
            "M\tverde\t14.99\t\n",
            "S\tverde\t14.99\t\n",
            "XL\tbianco\t7.99\t\n",
            "S\tverde\t9.99\t\n",
            "XL\tbianco\t14.99\t\n",
            "S\trosso\t14.99\t\n",
            "XL\tbianco\t9.99\t\n",
            "M\tverde\t7.99\t\n",
            "XL\tbianco\t4.99\t\n",
            "S\tverde\t14.99\t\n",
            "L\tbianco\t12.49\t\n",
            "M\trosso\t9.99\t\n",
            "L\tverde\t9.99\t\n",
            "XL\trosso\t7.99\t\n",
            "M\tbianco\t19.99\t\n",
            "L\tverde\t12.49\t\n",
            "L\tbianco\t12.49\t\n",
            "L\tbianco\t9.99\t\n",
            "XL\tbianco\t14.99\t\n",
            "L\tverde\t14.99\t\n",
            "XL\tverde\t9.99\t\n",
            "M\tbianco\t14.99\t\n",
            "L\tverde\t19.99\t\n",
            "XL\tverde\t7.99\t\n",
            "M\tverde\t19.99\t\n",
            "L\trosso\t19.99\t\n",
            "XL\tbianco\t9.99\t\n",
            "M\trosso\t12.49\t\n",
            "S\tbianco\t7.99\t\n",
            "S\trosso\t14.99\t\n",
            "S\tverde\t12.49\t\n",
            "XL\tbianco\t19.99\t\n",
            "S\tverde\t14.99\t\n",
            "S\tbianco\t19.99\t\n",
            "M\tverde\t9.99\t\n",
            "L\tverde\t4.99\t\n",
            "M\tverde\t12.49\t\n",
            "L\tbianco\t12.49\t\n",
            "S\tverde\t7.99\t\n",
            "S\tverde\t19.99\t\n",
            "L\tbianco\t9.99\t\n",
            "XL\trosso\t14.99\t\n",
            "M\tbianco\t12.49\t\n",
            "XL\tbianco\t14.99\t\n",
            "L\tbianco\t9.99\t\n",
            "XL\tverde\t14.99\t\n",
            "L\tbianco\t12.49\t\n",
            "XL\tbianco\t4.99\t\n",
            "L\tbianco\t14.99\t\n",
            "L\tverde\t9.99\t\n",
            "S\trosso\t14.99\t\n",
            "S\trosso\t19.99\t\n",
            "XL\trosso\t14.99\t\n",
            "S\tbianco\t9.99\t\n",
            "S\trosso\t14.99\t\n",
            "L\tbianco\t9.99\t\n",
            "XL\tbianco\t9.99\t\n",
            "L\tverde\t19.99\t\n",
            "XL\tbianco\t19.99\t\n",
            "M\tbianco\t4.99\t\n",
            "M\tbianco\t9.99\t\n",
            "S\tbianco\t14.99\t\n",
            "L\tbianco\t19.99\t\n",
            "S\tverde\t7.99\t\n",
            "XL\tverde\t9.99\t\n",
            "M\tbianco\t12.49\t\n",
            "L\tverde\t4.99\t\n",
            "M\tbianco\t7.99\t\n",
            "M\trosso\t14.99\t\n",
            "S\trosso\t9.99\t\n",
            "M\tverde\t4.99\t\n",
            "M\tbianco\t12.49\t\n",
            "M\trosso\t14.99\t\n",
            "L\tverde\t19.99\t\n",
            "M\trosso\t7.99\t\n",
            "S\tverde\t4.99\t\n",
            "L\tbianco\t9.99\t\n",
            "M\tverde\t14.99\t\n",
            "S\trosso\t12.49\t\n",
            "L\trosso\t12.49\t\n",
            "S\trosso\t19.99\t\n"
          ]
        }
      ]
    },
    {
      "cell_type": "code",
      "metadata": {
        "id": "p3WmE0x9LoZI"
      },
      "source": [
        "import csv\n",
        "\n",
        "with open('shirts.csv', mode='a', newline='') as csv_file:\n",
        "    csv_file.write(\"\\n\")\n",
        "    csv_writer = csv.writer(csv_file)\n",
        "    csv_writer.writerow([100, \"XL\", \"ciano\", 39.99])\n",
        "    csv_writer.writerow([101, \"XXL\", \"magenta\", 59.99])"
      ],
      "execution_count": 24,
      "outputs": []
    },
    {
      "cell_type": "code",
      "metadata": {
        "id": "xltqSYz-QpG9"
      },
      "source": [
        "with open('shirts2.csv', mode='a') as csv_file:\n",
        "    columns = [\"id\", \"taglia\", \"colore\", \"prezzo\"]\n",
        "    csv_writer = csv.DictWriter(csv_file, fieldnames=columns)\n",
        "    csv_writer.writeheader()\n",
        "    csv_writer.writerow({'id':1, 'taglia': 'XL', 'colore': 'ciano', 'prezzo': 39.99})\n",
        "    csv_writer.writerow({'id':2, 'taglia': 'XXL', 'colore': 'magenta', 'prezzo': 59.99})"
      ],
      "execution_count": 28,
      "outputs": []
    },
    {
      "cell_type": "markdown",
      "metadata": {
        "id": "8qt3SDxDMFh8"
      },
      "source": [
        "##... e i TSV?"
      ]
    },
    {
      "cell_type": "code",
      "metadata": {
        "colab": {
          "base_uri": "https://localhost:8080/"
        },
        "id": "8x1qSyrHO4S-",
        "outputId": "405c94dc-07ee-4f58-c104-cd22207daf8a"
      },
      "source": [
        "!wget https://raw.githubusercontent.com/ProfAI/programmazione-con-python/main/9%20-%20Operare%20sui%20File/shirts.tsv"
      ],
      "execution_count": 9,
      "outputs": [
        {
          "output_type": "stream",
          "name": "stdout",
          "text": [
            "--2021-11-18 18:07:43--  https://raw.githubusercontent.com/ProfAI/programmazione-con-python/main/9%20-%20Operare%20sui%20File/shirts.tsv\n",
            "Resolving raw.githubusercontent.com (raw.githubusercontent.com)... 185.199.108.133, 185.199.109.133, 185.199.110.133, ...\n",
            "Connecting to raw.githubusercontent.com (raw.githubusercontent.com)|185.199.108.133|:443... connected.\n",
            "HTTP request sent, awaiting response... 200 OK\n",
            "Length: 110 [text/plain]\n",
            "Saving to: ‘shirts.tsv’\n",
            "\n",
            "shirts.tsv          100%[===================>]     110  --.-KB/s    in 0s      \n",
            "\n",
            "2021-11-18 18:07:43 (4.62 MB/s) - ‘shirts.tsv’ saved [110/110]\n",
            "\n"
          ]
        }
      ]
    },
    {
      "cell_type": "code",
      "metadata": {
        "colab": {
          "base_uri": "https://localhost:8080/"
        },
        "id": "T_7km2D4MHO1",
        "outputId": "4e3e3bdf-1a2b-4411-a2f9-c02fd0b5aefe"
      },
      "source": [
        "import csv\n",
        "\n",
        "with open('shirts.tsv') as csv_file:\n",
        "    csv_reader = csv.DictReader(csv_file, delimiter=\"\\t\")\n",
        "    print(\"%s\\t%s\\t%s\\t\" % tuple(csv_reader.fieldnames[1:]))\n",
        "    for row in csv_reader:\n",
        "        print(\"%s\\t%s\\t%s\\t\" % (row['taglia'], row[\"colore\"], row[\"prezzo\"]))\n"
      ],
      "execution_count": 10,
      "outputs": [
        {
          "output_type": "stream",
          "name": "stdout",
          "text": [
            "taglia\tcolore\tprezzo\t\n",
            "S\tbianco\t4.99\t\n",
            "M\tbianco\t19.99\t\n",
            "XL\tbianco\t12.49\t\n",
            "XL\tbianco\t14.99\t\n",
            "bianco\t14.99\tNone\t\n"
          ]
        }
      ]
    },
    {
      "cell_type": "code",
      "metadata": {
        "id": "mepuhpZ8MajG"
      },
      "source": [
        "with open('shirts2.tsv', mode='a') as csv_file:\n",
        "    columns = [\"id\", \"taglia\", \"colore\", \"prezzo\"]\n",
        "    csv_writer = csv.DictWriter(csv_file, fieldnames=columns, delimiter=\"\\t\")\n",
        "    csv_writer.writeheader()\n",
        "    csv_writer.writerow({'id':1, 'taglia': 'XL', 'colore': 'ciano', 'prezzo': 39.99})\n",
        "    csv_writer.writerow({'id':2, 'taglia': 'XXL', 'colore': 'magenta', 'prezzo': 59.99})"
      ],
      "execution_count": 29,
      "outputs": []
    },
    {
      "cell_type": "code",
      "metadata": {
        "id": "-fQFRTOlUJu5"
      },
      "source": [
        ""
      ],
      "execution_count": null,
      "outputs": []
    }
  ]
}